{
 "cells": [
  {
   "cell_type": "code",
   "execution_count": null,
   "id": "43d32b53",
   "metadata": {},
   "outputs": [],
   "source": []
  },
  {
   "cell_type": "markdown",
   "id": "afd51d19",
   "metadata": {},
   "source": [
    "# 第一步：数据准备"
   ]
  },
  {
   "cell_type": "markdown",
   "id": "f1f091b7",
   "metadata": {},
   "source": [
    "Wine（葡萄酒）数据集是一个经典的机器学习数据集，用于分类任务。这个数据集是由美国加州大学欧文分校的计算机科学系的许多年前收集的。该数据集由13个特征组成，描述了三个不同种类的葡萄酒。这三个类别分别是不同来源的葡萄酒，通常被标记为类别0、1和2。\n",
    "\n",
    "这个数据一共有178行（代表有178个样本）,14 列（代表有13个特征+1列是标签）"
   ]
  },
  {
   "cell_type": "markdown",
   "id": "7083df49",
   "metadata": {},
   "source": [
    "## 数据读取"
   ]
  },
  {
   "cell_type": "code",
   "execution_count": 1,
   "id": "e07d209f",
   "metadata": {
    "ExecuteTime": {
     "end_time": "2024-03-05T14:13:31.206432Z",
     "start_time": "2024-03-05T14:13:30.851987Z"
    }
   },
   "outputs": [
    {
     "data": {
      "text/html": [
       "<div>\n",
       "<style scoped>\n",
       "    .dataframe tbody tr th:only-of-type {\n",
       "        vertical-align: middle;\n",
       "    }\n",
       "\n",
       "    .dataframe tbody tr th {\n",
       "        vertical-align: top;\n",
       "    }\n",
       "\n",
       "    .dataframe thead th {\n",
       "        text-align: right;\n",
       "    }\n",
       "</style>\n",
       "<table border=\"1\" class=\"dataframe\">\n",
       "  <thead>\n",
       "    <tr style=\"text-align: right;\">\n",
       "      <th></th>\n",
       "      <th>alcohol</th>\n",
       "      <th>malic_acid</th>\n",
       "      <th>ash</th>\n",
       "      <th>alcalinity_of_ash</th>\n",
       "      <th>magnesium</th>\n",
       "      <th>total_phenols</th>\n",
       "      <th>flavanoids</th>\n",
       "      <th>nonflavanoid_phenols</th>\n",
       "      <th>proanthocyanins</th>\n",
       "      <th>color_intensity</th>\n",
       "      <th>hue</th>\n",
       "      <th>od280/od315_of_diluted_wines</th>\n",
       "      <th>proline</th>\n",
       "      <th>target</th>\n",
       "    </tr>\n",
       "  </thead>\n",
       "  <tbody>\n",
       "    <tr>\n",
       "      <th>0</th>\n",
       "      <td>14.23</td>\n",
       "      <td>1.71</td>\n",
       "      <td>2.43</td>\n",
       "      <td>15.6</td>\n",
       "      <td>127.0</td>\n",
       "      <td>2.80</td>\n",
       "      <td>3.06</td>\n",
       "      <td>0.28</td>\n",
       "      <td>2.29</td>\n",
       "      <td>5.64</td>\n",
       "      <td>1.04</td>\n",
       "      <td>3.92</td>\n",
       "      <td>1065.0</td>\n",
       "      <td>0</td>\n",
       "    </tr>\n",
       "    <tr>\n",
       "      <th>1</th>\n",
       "      <td>13.20</td>\n",
       "      <td>1.78</td>\n",
       "      <td>2.14</td>\n",
       "      <td>11.2</td>\n",
       "      <td>100.0</td>\n",
       "      <td>2.65</td>\n",
       "      <td>2.76</td>\n",
       "      <td>0.26</td>\n",
       "      <td>1.28</td>\n",
       "      <td>4.38</td>\n",
       "      <td>1.05</td>\n",
       "      <td>3.40</td>\n",
       "      <td>1050.0</td>\n",
       "      <td>0</td>\n",
       "    </tr>\n",
       "    <tr>\n",
       "      <th>2</th>\n",
       "      <td>13.16</td>\n",
       "      <td>2.36</td>\n",
       "      <td>2.67</td>\n",
       "      <td>18.6</td>\n",
       "      <td>101.0</td>\n",
       "      <td>2.80</td>\n",
       "      <td>3.24</td>\n",
       "      <td>0.30</td>\n",
       "      <td>2.81</td>\n",
       "      <td>5.68</td>\n",
       "      <td>1.03</td>\n",
       "      <td>3.17</td>\n",
       "      <td>1185.0</td>\n",
       "      <td>0</td>\n",
       "    </tr>\n",
       "    <tr>\n",
       "      <th>3</th>\n",
       "      <td>14.37</td>\n",
       "      <td>1.95</td>\n",
       "      <td>2.50</td>\n",
       "      <td>16.8</td>\n",
       "      <td>113.0</td>\n",
       "      <td>3.85</td>\n",
       "      <td>3.49</td>\n",
       "      <td>0.24</td>\n",
       "      <td>2.18</td>\n",
       "      <td>7.80</td>\n",
       "      <td>0.86</td>\n",
       "      <td>3.45</td>\n",
       "      <td>1480.0</td>\n",
       "      <td>0</td>\n",
       "    </tr>\n",
       "    <tr>\n",
       "      <th>4</th>\n",
       "      <td>13.24</td>\n",
       "      <td>2.59</td>\n",
       "      <td>2.87</td>\n",
       "      <td>21.0</td>\n",
       "      <td>118.0</td>\n",
       "      <td>2.80</td>\n",
       "      <td>2.69</td>\n",
       "      <td>0.39</td>\n",
       "      <td>1.82</td>\n",
       "      <td>4.32</td>\n",
       "      <td>1.04</td>\n",
       "      <td>2.93</td>\n",
       "      <td>735.0</td>\n",
       "      <td>0</td>\n",
       "    </tr>\n",
       "  </tbody>\n",
       "</table>\n",
       "</div>"
      ],
      "text/plain": [
       "   alcohol  malic_acid   ash  alcalinity_of_ash  magnesium  total_phenols  \\\n",
       "0    14.23        1.71  2.43               15.6      127.0           2.80   \n",
       "1    13.20        1.78  2.14               11.2      100.0           2.65   \n",
       "2    13.16        2.36  2.67               18.6      101.0           2.80   \n",
       "3    14.37        1.95  2.50               16.8      113.0           3.85   \n",
       "4    13.24        2.59  2.87               21.0      118.0           2.80   \n",
       "\n",
       "   flavanoids  nonflavanoid_phenols  proanthocyanins  color_intensity   hue  \\\n",
       "0        3.06                  0.28             2.29             5.64  1.04   \n",
       "1        2.76                  0.26             1.28             4.38  1.05   \n",
       "2        3.24                  0.30             2.81             5.68  1.03   \n",
       "3        3.49                  0.24             2.18             7.80  0.86   \n",
       "4        2.69                  0.39             1.82             4.32  1.04   \n",
       "\n",
       "   od280/od315_of_diluted_wines  proline  target  \n",
       "0                          3.92   1065.0       0  \n",
       "1                          3.40   1050.0       0  \n",
       "2                          3.17   1185.0       0  \n",
       "3                          3.45   1480.0       0  \n",
       "4                          2.93    735.0       0  "
      ]
     },
     "execution_count": 1,
     "metadata": {},
     "output_type": "execute_result"
    }
   ],
   "source": [
    "import pandas as pd\n",
    "\n",
    "#读取数据为dataframe格式\n",
    "df = pd.read_csv('wine_data.csv')\n",
    "# 查看数据的前几行，默认显示前5行\n",
    "df.head()"
   ]
  },
  {
   "cell_type": "markdown",
   "id": "bc73a44c",
   "metadata": {},
   "source": [
    "## 数据探索"
   ]
  },
  {
   "cell_type": "code",
   "execution_count": 2,
   "id": "210b73cb",
   "metadata": {},
   "outputs": [
    {
     "data": {
      "text/plain": [
       "(178, 14)"
      ]
     },
     "execution_count": 2,
     "metadata": {},
     "output_type": "execute_result"
    }
   ],
   "source": [
    "# 显示数据集的形状，即数据集中样本的数量和特征的数量。从结果可以看出，这个数据一共有178行（代表有178个样本）,14 列（代表有13个特征+1列是标签）\n",
    "df.shape"
   ]
  },
  {
   "cell_type": "code",
   "execution_count": 3,
   "id": "a984d80f",
   "metadata": {},
   "outputs": [
    {
     "data": {
      "text/plain": [
       "array([0, 1, 2])"
      ]
     },
     "execution_count": 3,
     "metadata": {},
     "output_type": "execute_result"
    }
   ],
   "source": [
    "#也可以看出，一共有三类\n",
    "df[\"target\"].unique()"
   ]
  },
  {
   "cell_type": "code",
   "execution_count": 4,
   "id": "6985b29a",
   "metadata": {},
   "outputs": [
    {
     "data": {
      "text/html": [
       "<div>\n",
       "<style scoped>\n",
       "    .dataframe tbody tr th:only-of-type {\n",
       "        vertical-align: middle;\n",
       "    }\n",
       "\n",
       "    .dataframe tbody tr th {\n",
       "        vertical-align: top;\n",
       "    }\n",
       "\n",
       "    .dataframe thead th {\n",
       "        text-align: right;\n",
       "    }\n",
       "</style>\n",
       "<table border=\"1\" class=\"dataframe\">\n",
       "  <thead>\n",
       "    <tr style=\"text-align: right;\">\n",
       "      <th></th>\n",
       "      <th>alcohol</th>\n",
       "      <th>malic_acid</th>\n",
       "      <th>ash</th>\n",
       "      <th>alcalinity_of_ash</th>\n",
       "      <th>magnesium</th>\n",
       "      <th>total_phenols</th>\n",
       "      <th>flavanoids</th>\n",
       "      <th>nonflavanoid_phenols</th>\n",
       "      <th>proanthocyanins</th>\n",
       "      <th>color_intensity</th>\n",
       "      <th>hue</th>\n",
       "      <th>od280/od315_of_diluted_wines</th>\n",
       "      <th>proline</th>\n",
       "      <th>target</th>\n",
       "    </tr>\n",
       "  </thead>\n",
       "  <tbody>\n",
       "    <tr>\n",
       "      <th>count</th>\n",
       "      <td>178.000000</td>\n",
       "      <td>178.000000</td>\n",
       "      <td>178.000000</td>\n",
       "      <td>178.000000</td>\n",
       "      <td>178.000000</td>\n",
       "      <td>178.000000</td>\n",
       "      <td>178.000000</td>\n",
       "      <td>178.000000</td>\n",
       "      <td>178.000000</td>\n",
       "      <td>178.000000</td>\n",
       "      <td>178.000000</td>\n",
       "      <td>178.000000</td>\n",
       "      <td>178.000000</td>\n",
       "      <td>178.000000</td>\n",
       "    </tr>\n",
       "    <tr>\n",
       "      <th>mean</th>\n",
       "      <td>13.000618</td>\n",
       "      <td>2.336348</td>\n",
       "      <td>2.366517</td>\n",
       "      <td>19.494944</td>\n",
       "      <td>99.741573</td>\n",
       "      <td>2.295112</td>\n",
       "      <td>2.029270</td>\n",
       "      <td>0.361854</td>\n",
       "      <td>1.590899</td>\n",
       "      <td>5.058090</td>\n",
       "      <td>0.957449</td>\n",
       "      <td>2.611685</td>\n",
       "      <td>746.893258</td>\n",
       "      <td>0.938202</td>\n",
       "    </tr>\n",
       "    <tr>\n",
       "      <th>std</th>\n",
       "      <td>0.811827</td>\n",
       "      <td>1.117146</td>\n",
       "      <td>0.274344</td>\n",
       "      <td>3.339564</td>\n",
       "      <td>14.282484</td>\n",
       "      <td>0.625851</td>\n",
       "      <td>0.998859</td>\n",
       "      <td>0.124453</td>\n",
       "      <td>0.572359</td>\n",
       "      <td>2.318286</td>\n",
       "      <td>0.228572</td>\n",
       "      <td>0.709990</td>\n",
       "      <td>314.907474</td>\n",
       "      <td>0.775035</td>\n",
       "    </tr>\n",
       "    <tr>\n",
       "      <th>min</th>\n",
       "      <td>11.030000</td>\n",
       "      <td>0.740000</td>\n",
       "      <td>1.360000</td>\n",
       "      <td>10.600000</td>\n",
       "      <td>70.000000</td>\n",
       "      <td>0.980000</td>\n",
       "      <td>0.340000</td>\n",
       "      <td>0.130000</td>\n",
       "      <td>0.410000</td>\n",
       "      <td>1.280000</td>\n",
       "      <td>0.480000</td>\n",
       "      <td>1.270000</td>\n",
       "      <td>278.000000</td>\n",
       "      <td>0.000000</td>\n",
       "    </tr>\n",
       "    <tr>\n",
       "      <th>25%</th>\n",
       "      <td>12.362500</td>\n",
       "      <td>1.602500</td>\n",
       "      <td>2.210000</td>\n",
       "      <td>17.200000</td>\n",
       "      <td>88.000000</td>\n",
       "      <td>1.742500</td>\n",
       "      <td>1.205000</td>\n",
       "      <td>0.270000</td>\n",
       "      <td>1.250000</td>\n",
       "      <td>3.220000</td>\n",
       "      <td>0.782500</td>\n",
       "      <td>1.937500</td>\n",
       "      <td>500.500000</td>\n",
       "      <td>0.000000</td>\n",
       "    </tr>\n",
       "    <tr>\n",
       "      <th>50%</th>\n",
       "      <td>13.050000</td>\n",
       "      <td>1.865000</td>\n",
       "      <td>2.360000</td>\n",
       "      <td>19.500000</td>\n",
       "      <td>98.000000</td>\n",
       "      <td>2.355000</td>\n",
       "      <td>2.135000</td>\n",
       "      <td>0.340000</td>\n",
       "      <td>1.555000</td>\n",
       "      <td>4.690000</td>\n",
       "      <td>0.965000</td>\n",
       "      <td>2.780000</td>\n",
       "      <td>673.500000</td>\n",
       "      <td>1.000000</td>\n",
       "    </tr>\n",
       "    <tr>\n",
       "      <th>75%</th>\n",
       "      <td>13.677500</td>\n",
       "      <td>3.082500</td>\n",
       "      <td>2.557500</td>\n",
       "      <td>21.500000</td>\n",
       "      <td>107.000000</td>\n",
       "      <td>2.800000</td>\n",
       "      <td>2.875000</td>\n",
       "      <td>0.437500</td>\n",
       "      <td>1.950000</td>\n",
       "      <td>6.200000</td>\n",
       "      <td>1.120000</td>\n",
       "      <td>3.170000</td>\n",
       "      <td>985.000000</td>\n",
       "      <td>2.000000</td>\n",
       "    </tr>\n",
       "    <tr>\n",
       "      <th>max</th>\n",
       "      <td>14.830000</td>\n",
       "      <td>5.800000</td>\n",
       "      <td>3.230000</td>\n",
       "      <td>30.000000</td>\n",
       "      <td>162.000000</td>\n",
       "      <td>3.880000</td>\n",
       "      <td>5.080000</td>\n",
       "      <td>0.660000</td>\n",
       "      <td>3.580000</td>\n",
       "      <td>13.000000</td>\n",
       "      <td>1.710000</td>\n",
       "      <td>4.000000</td>\n",
       "      <td>1680.000000</td>\n",
       "      <td>2.000000</td>\n",
       "    </tr>\n",
       "  </tbody>\n",
       "</table>\n",
       "</div>"
      ],
      "text/plain": [
       "          alcohol  malic_acid         ash  alcalinity_of_ash   magnesium  \\\n",
       "count  178.000000  178.000000  178.000000         178.000000  178.000000   \n",
       "mean    13.000618    2.336348    2.366517          19.494944   99.741573   \n",
       "std      0.811827    1.117146    0.274344           3.339564   14.282484   \n",
       "min     11.030000    0.740000    1.360000          10.600000   70.000000   \n",
       "25%     12.362500    1.602500    2.210000          17.200000   88.000000   \n",
       "50%     13.050000    1.865000    2.360000          19.500000   98.000000   \n",
       "75%     13.677500    3.082500    2.557500          21.500000  107.000000   \n",
       "max     14.830000    5.800000    3.230000          30.000000  162.000000   \n",
       "\n",
       "       total_phenols  flavanoids  nonflavanoid_phenols  proanthocyanins  \\\n",
       "count     178.000000  178.000000            178.000000       178.000000   \n",
       "mean        2.295112    2.029270              0.361854         1.590899   \n",
       "std         0.625851    0.998859              0.124453         0.572359   \n",
       "min         0.980000    0.340000              0.130000         0.410000   \n",
       "25%         1.742500    1.205000              0.270000         1.250000   \n",
       "50%         2.355000    2.135000              0.340000         1.555000   \n",
       "75%         2.800000    2.875000              0.437500         1.950000   \n",
       "max         3.880000    5.080000              0.660000         3.580000   \n",
       "\n",
       "       color_intensity         hue  od280/od315_of_diluted_wines      proline  \\\n",
       "count       178.000000  178.000000                    178.000000   178.000000   \n",
       "mean          5.058090    0.957449                      2.611685   746.893258   \n",
       "std           2.318286    0.228572                      0.709990   314.907474   \n",
       "min           1.280000    0.480000                      1.270000   278.000000   \n",
       "25%           3.220000    0.782500                      1.937500   500.500000   \n",
       "50%           4.690000    0.965000                      2.780000   673.500000   \n",
       "75%           6.200000    1.120000                      3.170000   985.000000   \n",
       "max          13.000000    1.710000                      4.000000  1680.000000   \n",
       "\n",
       "           target  \n",
       "count  178.000000  \n",
       "mean     0.938202  \n",
       "std      0.775035  \n",
       "min      0.000000  \n",
       "25%      0.000000  \n",
       "50%      1.000000  \n",
       "75%      2.000000  \n",
       "max      2.000000  "
      ]
     },
     "execution_count": 4,
     "metadata": {},
     "output_type": "execute_result"
    }
   ],
   "source": [
    "# 显示数据集中数值型特征的统计摘要，包括均值、标准差、最小值、25%分位数、中位数、75%分位数和最大值。\n",
    "df.describe()"
   ]
  },
  {
   "cell_type": "markdown",
   "id": "183d62e8",
   "metadata": {},
   "source": [
    "## 划分训练集和测试集"
   ]
  },
  {
   "cell_type": "code",
   "execution_count": 5,
   "id": "add54518",
   "metadata": {},
   "outputs": [],
   "source": [
    "# 数据集中包含特征和目标变量，要把他们划分开\n",
    "\n",
    "# 特征矩阵，不包含目标变量。df中去除target列以外的列就是特征。\n",
    "X = df.drop('target', axis=1) \n",
    "\n",
    "# df的target列是目标变量\n",
    "y = df['target']"
   ]
  },
  {
   "cell_type": "code",
   "execution_count": 6,
   "id": "64f7f8db",
   "metadata": {},
   "outputs": [],
   "source": [
    " # 导入train_test_split函数，用于划分训练集和测试集\n",
    "from sklearn.model_selection import train_test_split \n",
    "\n"
   ]
  },
  {
   "cell_type": "code",
   "execution_count": 7,
   "id": "3c3a6837",
   "metadata": {},
   "outputs": [],
   "source": [
    "#划分训练集和测试集，将数据集分为训练集（80%）和测试集（20%）\n",
    "# test_size=0.2 这个参数就代表20%的样本做测试集\n",
    "# random_state参数设置随机数种子，保证每次切分运行结果一致。\n",
    "X_train, X_test, y_train, y_test = train_test_split(X, y, test_size=0.2, random_state=42)\n"
   ]
  },
  {
   "cell_type": "markdown",
   "id": "4fc25f91",
   "metadata": {},
   "source": [
    "# 模型训练"
   ]
  },
  {
   "cell_type": "code",
   "execution_count": 8,
   "id": "a59eb4a7",
   "metadata": {},
   "outputs": [],
   "source": [
    " # 导入准确率和分类报告指标\n",
    "from sklearn.metrics import accuracy_score, classification_report \n"
   ]
  },
  {
   "cell_type": "markdown",
   "id": "ae0eea6c",
   "metadata": {},
   "source": [
    "## 逻辑回归 （Logistic Regression，LR）"
   ]
  },
  {
   "cell_type": "markdown",
   "id": "e234f724",
   "metadata": {},
   "source": [
    "### 先训练一遍模型"
   ]
  },
  {
   "cell_type": "code",
   "execution_count": 9,
   "id": "2413b223",
   "metadata": {},
   "outputs": [
    {
     "name": "stdout",
     "output_type": "stream",
     "text": [
      "逻辑回归模型准确率： 1.0\n",
      "\n",
      "逻辑回归分类报告：\n",
      "              precision    recall  f1-score   support\n",
      "\n",
      "           0       1.00      1.00      1.00        14\n",
      "           1       1.00      1.00      1.00        14\n",
      "           2       1.00      1.00      1.00         8\n",
      "\n",
      "    accuracy                           1.00        36\n",
      "   macro avg       1.00      1.00      1.00        36\n",
      "weighted avg       1.00      1.00      1.00        36\n",
      "\n"
     ]
    }
   ],
   "source": [
    "from sklearn.linear_model import LogisticRegression  # 导入LogisticRegression模型\n",
    "\n",
    "# 初始化逻辑回归模型\n",
    "model = LogisticRegression(max_iter=5000)\n",
    "\n",
    "# 在训练集上训练模型\n",
    "model.fit(X_train, y_train)\n",
    "\n",
    "# 在测试集上进行预测\n",
    "y_pred = model.predict(X_test)\n",
    "\n",
    "# 计算模型准确率\n",
    "# y_test: 这是测试集的真实标签\n",
    "# y_pred: 这是刚才逻辑回归模型对测试集中每个样本的预测类别。\n",
    "# 将真实标签 y_test和 模型预测类别 y_pred 输入到从sklearn中导入的accuracy_score函数中，计算准确率。\n",
    "accuracy = accuracy_score(y_test, y_pred)\n",
    "print(\"逻辑回归模型准确率：\", accuracy)\n",
    "\n",
    "# 打印分类报告，包括精确率、召回率、F1分数等指标\n",
    "#在下一节，决策树中，我展开解释了这个分类报告的含义。\n",
    "print(\"\\n逻辑回归分类报告：\")\n",
    "print(classification_report(y_test, y_pred))"
   ]
  },
  {
   "cell_type": "markdown",
   "id": "0783c855",
   "metadata": {},
   "source": [
    "### 混淆矩阵"
   ]
  },
  {
   "cell_type": "code",
   "execution_count": 10,
   "id": "94241c22",
   "metadata": {},
   "outputs": [
    {
     "name": "stdout",
     "output_type": "stream",
     "text": [
      "[[14  0  0]\n",
      " [ 0 14  0]\n",
      " [ 0  0  8]]\n"
     ]
    },
    {
     "data": {
      "image/png": "[encoded data removed]",
      "text/plain": [
       "<Figure size 432x288 with 2 Axes>"
      ]
     },
     "metadata": {
      "needs_background": "light"
     },
     "output_type": "display_data"
    }
   ],
   "source": [
    "from sklearn.metrics import confusion_matrix, ConfusionMatrixDisplay\n",
    "import matplotlib.pyplot as plt\n",
    "# 打印混淆矩阵\n",
    "cm = confusion_matrix(y_test, y_pred)\n",
    "disp = ConfusionMatrixDisplay(confusion_matrix=cm)\n",
    "\n",
    "# 显示混淆矩阵\n",
    "print(cm)\n",
    "disp.plot(cmap=plt.cm.Blues)\n",
    "plt.show()\n",
    "\n",
    "# 混淆矩阵（Confusion Matrix）用于评估机器学习分类模型性能的表。\n",
    "# 它展示在测试数据中，模型的预测结果与实际结果之间的对应关系。\n",
    "# 混淆矩阵的每一行代表实际的类别，每一列代表预测的类别。\n",
    "# 拿第一行举例子，实际为第0类的样本（true label =0）中，\n",
    "# 14个样本正确预测为第0类（真正例），0个样本错误预测为第1类，0个样本错误预测为第2类\n",
    "# 这说明全预测对了"
   ]
  },
  {
   "cell_type": "markdown",
   "id": "d2a2ccab",
   "metadata": {},
   "source": [
    "## 决策树（Decision Tree，DT）"
   ]
  },
  {
   "cell_type": "markdown",
   "id": "df536ba8",
   "metadata": {},
   "source": [
    "### 先训练一遍模型"
   ]
  },
  {
   "cell_type": "code",
   "execution_count": 11,
   "id": "271759bf",
   "metadata": {},
   "outputs": [
    {
     "name": "stdout",
     "output_type": "stream",
     "text": [
      "决策树模型准确率： 0.9444444444444444\n",
      "\n",
      "决策树分类报告：\n",
      "              precision    recall  f1-score   support\n",
      "\n",
      "           0       0.93      0.93      0.93        14\n",
      "           1       0.93      1.00      0.97        14\n",
      "           2       1.00      0.88      0.93         8\n",
      "\n",
      "    accuracy                           0.94        36\n",
      "   macro avg       0.95      0.93      0.94        36\n",
      "weighted avg       0.95      0.94      0.94        36\n",
      "\n"
     ]
    }
   ],
   "source": [
    "from sklearn.tree import DecisionTreeClassifier\n",
    "\n",
    "# 决策树模型\n",
    "# 可以调整的参数有：\n",
    "    # max_depth: 决策树的最大深度，用于控制树的复杂度。默认值：None，还可以试试 10, 15。限制max_depth，可以防止模型在训练集上过度学习。\n",
    "    # min_samples_split: 节点分裂的最小样本数，也就是限制节点再划分所需的最小样本数，用于控制过拟合，默认值：2。增加min_samples_split，可以防止模型过于复杂，提高泛化能力。\n",
    "    # min_samples_leaf: 默认值：1，叶子节点的最小样本数，用于控制过拟合，可以尝试2, 5, 10等。增加min_samples_leaf，可以防止模型对训练数据中的噪声过于敏感。\n",
    "# 大家可以试试换一下这些参数后，对最后的预测结果有什么影响\n",
    "\n",
    "\n",
    "\n",
    "dt_model = DecisionTreeClassifier(max_depth=5, min_samples_split=2, min_samples_leaf=2,random_state=42)\n",
    "\n",
    "# 在训练集上训练决策树模型\n",
    "dt_model.fit(X_train, y_train)\n",
    "\n",
    "# 用刚才训练好的名字叫dt_model的决策树模型，在测试集上进行预测\n",
    "y_pred = dt_model.predict(X_test)\n",
    "\n",
    "\n",
    "# 计算模型准确率\n",
    "# y_test: 这是测试集的真实标签\n",
    "# y_pred: 这是刚才决策树模型对测试集中每个样本的预测类别。\n",
    "# 将真实标签 y_test和 模型预测类别 y_pred 输入到从sklearn中导入的accuracy_score函数中，计算准确率。\n",
    "# 也就是说，计算准确率，不用自己写代码，调用这个accuracy_score函数就可以了\n",
    "accuracy = accuracy_score(y_test, y_pred)\n",
    "print(\"决策树模型准确率：\", accuracy)\n",
    "\n",
    "# 打印分类报告，包括精确率、召回率、F1分数等指标\n",
    "print(\"\\n决策树分类报告：\")\n",
    "print(classification_report(y_test, y_pred))\n",
    "\n"
   ]
  },
  {
   "cell_type": "markdown",
   "id": "ba8552d4",
   "metadata": {},
   "source": [
    "### 混淆矩阵"
   ]
  },
  {
   "cell_type": "code",
   "execution_count": 12,
   "id": "76ca4631",
   "metadata": {},
   "outputs": [
    {
     "name": "stdout",
     "output_type": "stream",
     "text": [
      "[[13  1  0]\n",
      " [ 0 14  0]\n",
      " [ 1  0  7]]\n"
     ]
    },
    {
     "data": {
      "image/png": "[encoded data removed]",
      "text/plain": [
       "<Figure size 432x288 with 2 Axes>"
      ]
     },
     "metadata": {
      "needs_background": "light"
     },
     "output_type": "display_data"
    }
   ],
   "source": [
    "from sklearn.metrics import confusion_matrix, ConfusionMatrixDisplay\n",
    "import matplotlib.pyplot as plt\n",
    "# 打印混淆矩阵\n",
    "cm = confusion_matrix(y_test, y_pred)\n",
    "disp = ConfusionMatrixDisplay(confusion_matrix=cm)\n",
    "\n",
    "# 显示混淆矩阵\n",
    "print(cm)\n",
    "disp.plot(cmap=plt.cm.Blues)\n",
    "plt.show()\n",
    "\n",
    "\n",
    "# 还是拿第一行举例子，实际为第一类的样本（true label =0）中，\n",
    "# 13个样本正确预测为第0类（真正例），1个样本错误被预测为第1类，0个样本被错误预测为第2类\n",
    "# 我们在学习的阶段会借助混淆矩阵来理解准确率，精确率等是如何计算的，\n",
    "# 但是实际应用中，我们可以直接看分类报告给我们计算好的准确率，召回率，并不用自己去计算。"
   ]
  },
  {
   "cell_type": "markdown",
   "id": "ddf412df",
   "metadata": {},
   "source": [
    "### 结果分析(后同）"
   ]
  },
  {
   "cell_type": "markdown",
   "id": "e31f1ff4",
   "metadata": {},
   "source": [
    "* 精确率（Precision）：\n",
    "    * 类别0（第一类葡萄酒）的精确率为0.93，表示在所有被模型预测为第一类葡萄酒的样本中，有93%确实属于第一类葡萄酒。\n",
    "    * 类别1（第二类葡萄酒）的精确率为0.93，表示在所有被模型预测为第二类葡萄酒的样本中，有93%确实属于第二类葡萄酒。\n",
    "    * 类别2（第三类葡萄酒）的精确率为1.00，表示在所有被模型预测为第三类葡萄酒的样本中，有100%确实属于第三类葡萄酒。\n",
    "    * 在三个类别中，模型的精确率都相对较高，这说明模型对每个类别的分类都比较准确。\n",
    "* 召回率（Recall）：\n",
    "    * 类别0的召回率为0.93，表示在所有实际为第一类葡萄酒的样本中，有93%被模型正确地预测为第一类葡萄酒。\n",
    "    * 类别1的召回率为1，表示在所有实际为第二类葡萄酒的样本中，有100%被模型正确地预测为第二类葡萄酒。\n",
    "    * 类别2的召回率为0.88，表示在所有实际为第三类葡萄酒的样本中，有88%被模型正确地预测为第三类葡萄酒。\n",
    "  \n",
    "* F1分数（F1-score）：\n",
    "    * F1分数是精确率和召回率的调和平均值，综合考虑了模型的分类准确度和漏报率。\n",
    "    * 三个类别的F1分数都比较高，说明模型在各个类别上的性能都比较均衡。\n",
    "* 支持数（Support）：\n",
    "    * 支持数表示每个类别在测试集中的样本数量。在这个报告中，意思是，测试集中这三类的样本量分别为14、14和8。\n",
    "* 准确率（Accuracy）：\n",
    "    * 准确率是模型在所有预测中(无论哪一类)正确预测的比例.\n",
    "    * 这个模型的准确率为0.94，说明总共有有94%的样本被模型正确地预测，说明模型在测试集上的整体性能比较好。\n"
   ]
  },
  {
   "cell_type": "markdown",
   "id": "e101627c",
   "metadata": {},
   "source": [
    "### 十折交叉验证"
   ]
  },
  {
   "cell_type": "markdown",
   "id": "0a728590",
   "metadata": {},
   "source": [
    "k折交叉验证（k-fold cross-validation）：\n",
    "\n",
    "将数据集均匀地划分成k个子集，每个子集都有机会作为测试集，其余作为训练集。然后看K次的平均值和方差以衡量模型在k折交叉验证中的整体性能和稳定性。\n",
    "\n",
    "一般来说K=10或者5,这里用K=10\n"
   ]
  },
  {
   "cell_type": "code",
   "execution_count": 13,
   "id": "2f73b78f",
   "metadata": {},
   "outputs": [
    {
     "data": {
      "image/png": "[encoded data removed]",
      "text/plain": [
       "<Figure size 576x432 with 1 Axes>"
      ]
     },
     "metadata": {
      "needs_background": "light"
     },
     "output_type": "display_data"
    }
   ],
   "source": [
    "\n",
    "from sklearn.model_selection import cross_val_score\n",
    "import matplotlib.pyplot as plt\n",
    "\n",
    "# 定义 决策树 模型\n",
    "dt_model = DecisionTreeClassifier(max_depth=5, min_samples_split=2, min_samples_leaf=1)\n",
    "\n",
    "# 进行十折交叉验证，返回十个验证准确率的数组\n",
    "cross_val_scores = cross_val_score(dt_model, X_train, y_train, cv=10)\n",
    "\n",
    "# 定义 X 轴的数据，即交叉验证的折数\n",
    "x_values = range(1, 11)\n",
    "\n",
    "# 绘制折线图\n",
    "plt.figure(figsize=(8, 6))\n",
    "plt.plot(x_values, cross_val_scores, marker='o', linestyle='-')\n",
    "plt.xlabel('Fold')\n",
    "plt.ylabel('Accuracy')\n",
    "plt.title('Cross Validation Scores')\n",
    "plt.xticks(x_values)\n",
    "plt.grid(True)\n",
    "plt.show()"
   ]
  },
  {
   "cell_type": "code",
   "execution_count": 14,
   "id": "34a9678c",
   "metadata": {},
   "outputs": [
    {
     "name": "stdout",
     "output_type": "stream",
     "text": [
      "这十次的准确率分别是：\n",
      " [0.93333333 1.         0.85714286 0.85714286 0.71428571 0.92857143\n",
      " 0.78571429 0.92857143 1.         0.85714286]\n",
      "这十次的准确率的均值是：\n",
      " 0.8861904761904762\n"
     ]
    }
   ],
   "source": [
    "print(\"这十次的准确率分别是：\\n\",cross_val_scores)\n",
    "print(\"这十次的准确率的均值是：\\n\",cross_val_scores.mean())"
   ]
  },
  {
   "cell_type": "code",
   "execution_count": 15,
   "id": "ed992de8",
   "metadata": {},
   "outputs": [],
   "source": [
    "## 注意"
   ]
  },
  {
   "cell_type": "markdown",
   "id": "5f26fb90",
   "metadata": {},
   "source": [
    "\n",
    "可以看到如下图中的结果，每一次训练，换用不同的子集作为训练集，所得到的‘准确率”（纵轴），是有波动的。虽然第一次达到了100%的准确率，但是第三次就不是了。因此，不能因为看到了一个机器学习模型，在一个训练集上训练达到了100%的准确率，就认为这个机器学习模型是完美的，因为这里有一些“巧合”的成分。我们应该关注的是，在不用的训练集上，准确率都比较高的模型，比如，看十次的准确率的均值最高的模型。"
   ]
  },
  {
   "cell_type": "markdown",
   "id": "73be2378",
   "metadata": {},
   "source": [
    "## 随机森林（Random Forest，RF）"
   ]
  },
  {
   "cell_type": "markdown",
   "id": "55093a00",
   "metadata": {},
   "source": [
    "### 先训练一遍模型"
   ]
  },
  {
   "cell_type": "code",
   "execution_count": 16,
   "id": "67b727c0",
   "metadata": {},
   "outputs": [
    {
     "name": "stdout",
     "output_type": "stream",
     "text": [
      "随机森林模型准确率： 1.0\n",
      "\n",
      "随机森林分类报告：\n",
      "              precision    recall  f1-score   support\n",
      "\n",
      "           0       1.00      1.00      1.00        14\n",
      "           1       1.00      1.00      1.00        14\n",
      "           2       1.00      1.00      1.00         8\n",
      "\n",
      "    accuracy                           1.00        36\n",
      "   macro avg       1.00      1.00      1.00        36\n",
      "weighted avg       1.00      1.00      1.00        36\n",
      "\n"
     ]
    }
   ],
   "source": [
    "from sklearn.ensemble import RandomForestClassifier\n",
    "\n",
    "# 随机森林模型\n",
    "# 可以调整的参数有：\n",
    "#     n_estimators: 随机森林中树的数量，增加数量可以提高模型的稳定性和性能。默认值：100。\n",
    "#     max_depth: 决策树的最大深度，用于控制树的复杂度。\n",
    "#     min_samples_split: 节点分裂的最小样本数，用于控制过拟合。\n",
    "#     min_samples_leaf: 叶子节点的最小样本数，用于控制过拟合。\n",
    "\n",
    "\n",
    "# 大家可以试试换一下这些参数后，对最后的预测结果有什么影响\n",
    "rf_model = RandomForestClassifier(n_estimators=100, max_depth=None, min_samples_split=2, min_samples_leaf=1)\n",
    "# 在训练集上训练随机森林模型\n",
    "rf_model.fit(X_train, y_train)\n",
    "\n",
    "# 用刚才训练好的名字叫rf_model的随机森林模型，在测试集上进行预测\n",
    "rf_y_pred = rf_model.predict(X_test)\n",
    "\n",
    "# 计算模型准确率\n",
    "rf_accuracy = accuracy_score(y_test, rf_y_pred)\n",
    "print(\"随机森林模型准确率：\", rf_accuracy)\n",
    "\n",
    "# 打印分类报告，包括精确率、召回率、F1分数等指标\n",
    "print(\"\\n随机森林分类报告：\")\n",
    "print(classification_report(y_test, rf_y_pred))"
   ]
  },
  {
   "cell_type": "markdown",
   "id": "814a9168",
   "metadata": {},
   "source": [
    "！！！可以看到 随机森林的各个指标都达到了 100%,说明这个方法表现优异！"
   ]
  },
  {
   "cell_type": "code",
   "execution_count": 17,
   "id": "748bde14",
   "metadata": {},
   "outputs": [
    {
     "name": "stdout",
     "output_type": "stream",
     "text": [
      "rf_y_pred [0 0 2 0 1 0 1 2 1 2 0 2 0 1 0 1 1 1 0 1 0 1 1 2 2 2 1 1 1 0 0 1 2 0 0 0]\n",
      "y_test [0 0 2 0 1 0 1 2 1 2 0 2 0 1 0 1 1 1 0 1 0 1 1 2 2 2 1 1 1 0 0 1 2 0 0 0]\n"
     ]
    }
   ],
   "source": [
    "# 可以打印预测值rf_y_pred和真实值y_test，看看是不是一样的\n",
    "print(\"rf_y_pred\",rf_y_pred)\n",
    "print(\"y_test\",y_test.values)"
   ]
  },
  {
   "cell_type": "markdown",
   "id": "7e781ffe",
   "metadata": {},
   "source": [
    "### 十折交叉验证"
   ]
  },
  {
   "cell_type": "code",
   "execution_count": 18,
   "id": "4fd13c93",
   "metadata": {},
   "outputs": [
    {
     "data": {
      "image/png": "[encoded data removed]",
      "text/plain": [
       "<Figure size 576x432 with 1 Axes>"
      ]
     },
     "metadata": {
      "needs_background": "light"
     },
     "output_type": "display_data"
    }
   ],
   "source": [
    "\n",
    "from sklearn.model_selection import cross_val_score\n",
    "import matplotlib.pyplot as plt\n",
    "\n",
    "# 定义 随机森林 模型\n",
    "rf_model = RandomForestClassifier(n_estimators=100, max_depth=None, min_samples_split=2, min_samples_leaf=1)\n",
    "\n",
    "# 进行十折交叉验证，返回十个验证准确率的数组\n",
    "cross_val_scores = cross_val_score(rf_model, X_train, y_train, cv=10)\n",
    "\n",
    "# 定义 X 轴的数据，即交叉验证的折数\n",
    "x_values = range(1, 11)\n",
    "\n",
    "# 绘制折线图\n",
    "plt.figure(figsize=(8, 6))\n",
    "plt.plot(x_values, cross_val_scores, marker='o', linestyle='-')\n",
    "plt.xlabel('Fold')\n",
    "plt.ylabel('Accuracy')\n",
    "plt.title('Cross Validation Scores')\n",
    "plt.xticks(x_values)\n",
    "plt.grid(True)\n",
    "plt.show()"
   ]
  },
  {
   "cell_type": "code",
   "execution_count": 19,
   "id": "a5ba3c04",
   "metadata": {},
   "outputs": [
    {
     "name": "stdout",
     "output_type": "stream",
     "text": [
      "这十次的准确率分别是：\n",
      " [1.         1.         1.         0.92857143 0.85714286 1.\n",
      " 0.92857143 1.         1.         1.        ]\n",
      "这十次的准确率的均值是：\n",
      " 0.9714285714285715\n"
     ]
    }
   ],
   "source": [
    "print(\"这十次的准确率分别是：\\n\",cross_val_scores)\n",
    "print(\"这十次的准确率的均值是：\\n\",cross_val_scores.mean())"
   ]
  },
  {
   "cell_type": "code",
   "execution_count": 20,
   "id": "8b5607da",
   "metadata": {},
   "outputs": [],
   "source": [
    "# 可以看出的是随机森林在十次的效果上都不错，效果比较稳定，这是一个好模型。"
   ]
  },
  {
   "cell_type": "markdown",
   "id": "eb67c7d5",
   "metadata": {},
   "source": [
    "## 支持向量机（Support Vector Machine，SVM）"
   ]
  },
  {
   "cell_type": "markdown",
   "id": "c6a86ac5",
   "metadata": {},
   "source": [
    "### 先训练一遍模型"
   ]
  },
  {
   "cell_type": "code",
   "execution_count": 21,
   "id": "c0d1a71e",
   "metadata": {},
   "outputs": [
    {
     "name": "stdout",
     "output_type": "stream",
     "text": [
      "\n",
      "支持向量机模型准确率： 0.8055555555555556\n",
      "\n",
      "支持向量机分类报告：\n",
      "              precision    recall  f1-score   support\n",
      "\n",
      "           0       1.00      1.00      1.00        14\n",
      "           1       0.73      0.79      0.76        14\n",
      "           2       0.57      0.50      0.53         8\n",
      "\n",
      "    accuracy                           0.81        36\n",
      "   macro avg       0.77      0.76      0.76        36\n",
      "weighted avg       0.80      0.81      0.80        36\n",
      "\n"
     ]
    }
   ],
   "source": [
    "from sklearn.svm import SVC\n",
    "# 支持向量机模型\n",
    "# 可以调整的参数有：\n",
    "# C:正则化参数，默认值 1.0。\n",
    "# 控制决策边界的软硬程度。C越大，决策边界越硬，容错性越低。\n",
    "# 较小的C值（例如0.1）可以增加模型容错性，较大的C值（例如10）可以减小容错性。\n",
    "# kernel:核函数的选择，决定数据映射到高维空间的方式，常用的有线性核、多项式核和径向基核（RBF）。\n",
    "# 'linear'线性核适用于线性可分的情况，'rbf'适用于非线性可分的情况。\n",
    "\n",
    "\n",
    "svm_model = SVC(C=1, kernel='rbf')\n",
    "\n",
    "# 在训练集上训练支持向量机模型\n",
    "svm_model.fit(X_train, y_train)\n",
    "\n",
    "# 用刚才训练好的名字叫svm_model的svm模型，在测试集上进行预测\n",
    "svm_y_pred = svm_model.predict(X_test)\n",
    "\n",
    "svm_accuracy = accuracy_score(y_test, svm_y_pred)\n",
    "print(\"\\n支持向量机模型准确率：\", svm_accuracy)\n",
    "print(\"\\n支持向量机分类报告：\")\n",
    "print(classification_report(y_test, svm_y_pred))"
   ]
  },
  {
   "cell_type": "markdown",
   "id": "fc233ad2",
   "metadata": {},
   "source": [
    "### 十折交叉验证"
   ]
  },
  {
   "cell_type": "code",
   "execution_count": 22,
   "id": "d4ebe115",
   "metadata": {},
   "outputs": [
    {
     "data": {
      "image/png": "[encoded data removed]",
      "text/plain": [
       "<Figure size 576x432 with 1 Axes>"
      ]
     },
     "metadata": {
      "needs_background": "light"
     },
     "output_type": "display_data"
    }
   ],
   "source": [
    "\n",
    "from sklearn.model_selection import cross_val_score\n",
    "import matplotlib.pyplot as plt\n",
    "\n",
    "# 定义 svm 模型\n",
    "svm_model = SVC(C=1, kernel='rbf')\n",
    "\n",
    "# 进行十折交叉验证，返回十个验证准确率的数组\n",
    "cross_val_scores = cross_val_score(svm_model, X_train, y_train, cv=10)\n",
    "\n",
    "# 定义 X 轴的数据，即交叉验证的折数\n",
    "x_values = range(1, 11)\n",
    "\n",
    "# 绘制折线图\n",
    "plt.figure(figsize=(8, 6))\n",
    "plt.plot(x_values, cross_val_scores, marker='o', linestyle='-')\n",
    "plt.xlabel('Fold')\n",
    "plt.ylabel('Accuracy')\n",
    "plt.title('Cross Validation Scores')\n",
    "plt.xticks(x_values)\n",
    "plt.grid(True)\n",
    "plt.show()"
   ]
  },
  {
   "cell_type": "code",
   "execution_count": 23,
   "id": "f75d36d7",
   "metadata": {},
   "outputs": [
    {
     "name": "stdout",
     "output_type": "stream",
     "text": [
      "这十次的准确率分别是：\n",
      " [0.6        0.66666667 0.57142857 0.57142857 0.71428571 0.71428571\n",
      " 0.64285714 0.64285714 0.57142857 0.64285714]\n",
      "这十次的准确率的均值是：\n",
      " 0.6338095238095238\n"
     ]
    }
   ],
   "source": [
    "print(\"这十次的准确率分别是：\\n\",cross_val_scores)\n",
    "print(\"这十次的准确率的均值是：\\n\",cross_val_scores.mean())"
   ]
  },
  {
   "cell_type": "markdown",
   "id": "8fc6824b",
   "metadata": {},
   "source": [
    "## KNN（K-Nearest Neighbors，KNN）"
   ]
  },
  {
   "cell_type": "markdown",
   "id": "612eb139",
   "metadata": {},
   "source": [
    "### 先训练一遍模型"
   ]
  },
  {
   "cell_type": "code",
   "execution_count": 24,
   "id": "70df33b5",
   "metadata": {},
   "outputs": [
    {
     "name": "stdout",
     "output_type": "stream",
     "text": [
      "\n",
      "K最近邻模型准确率： 0.7222222222222222\n",
      "\n",
      "K最近邻模型分类报告：\n",
      "              precision    recall  f1-score   support\n",
      "\n",
      "           0       0.86      0.86      0.86        14\n",
      "           1       0.79      0.79      0.79        14\n",
      "           2       0.38      0.38      0.38         8\n",
      "\n",
      "    accuracy                           0.72        36\n",
      "   macro avg       0.67      0.67      0.67        36\n",
      "weighted avg       0.72      0.72      0.72        36\n",
      "\n"
     ]
    }
   ],
   "source": [
    "from sklearn.neighbors import KNeighborsClassifier\n",
    "\n",
    "# K最近邻模型\n",
    "# 可以调整的参数有：\n",
    "#     n_neighbors: 选择最近邻的数量。\n",
    "#     weights: 设置邻居的权重，可以是uniform（所有邻居权重相同）或distance（距离越近的邻居权重越大）。\n",
    "\n",
    "knn_model = KNeighborsClassifier(n_neighbors=5, weights='uniform')\n",
    "knn_model.fit(X_train, y_train)\n",
    "knn_y_pred = knn_model.predict(X_test)\n",
    "knn_accuracy = accuracy_score(y_test, knn_y_pred)\n",
    "print(\"\\nK最近邻模型准确率：\", knn_accuracy)\n",
    "print(\"\\nK最近邻模型分类报告：\")\n",
    "print(classification_report(y_test, knn_y_pred))"
   ]
  },
  {
   "cell_type": "markdown",
   "id": "0640c31c",
   "metadata": {},
   "source": [
    "### 十折交叉验证"
   ]
  },
  {
   "cell_type": "code",
   "execution_count": 25,
   "id": "6e1f1c5c",
   "metadata": {},
   "outputs": [
    {
     "data": {
      "image/png": "[encoded data removed]",
      "text/plain": [
       "<Figure size 576x432 with 1 Axes>"
      ]
     },
     "metadata": {
      "needs_background": "light"
     },
     "output_type": "display_data"
    }
   ],
   "source": [
    "\n",
    "from sklearn.model_selection import cross_val_score\n",
    "import matplotlib.pyplot as plt\n",
    "\n",
    "# 定义 KNN 模型\n",
    "knn_model = KNeighborsClassifier(n_neighbors=5, weights='uniform')\n",
    "\n",
    "\n",
    "# 进行十折交叉验证，返回十个验证准确率的数组\n",
    "cross_val_scores = cross_val_score(knn_model, X_train, y_train, cv=10)\n",
    "\n",
    "# 定义 X 轴的数据，即交叉验证的折数\n",
    "x_values = range(1, 11)\n",
    "\n",
    "# 绘制折线图\n",
    "plt.figure(figsize=(8, 6))\n",
    "plt.plot(x_values, cross_val_scores, marker='o', linestyle='-')\n",
    "plt.xlabel('Fold')\n",
    "plt.ylabel('Accuracy')\n",
    "plt.title('Cross Validation Scores')\n",
    "plt.xticks(x_values)\n",
    "plt.grid(True)\n",
    "plt.show()"
   ]
  },
  {
   "cell_type": "code",
   "execution_count": 26,
   "id": "e36297dd",
   "metadata": {},
   "outputs": [
    {
     "name": "stdout",
     "output_type": "stream",
     "text": [
      "这十次的准确率分别是：\n",
      " [0.66666667 0.66666667 0.57142857 0.64285714 0.64285714 0.64285714\n",
      " 0.5        0.71428571 0.64285714 0.78571429]\n",
      "这十次的准确率的均值是：\n",
      " 0.6476190476190476\n"
     ]
    }
   ],
   "source": [
    "print(\"这十次的准确率分别是：\\n\",cross_val_scores)\n",
    "print(\"这十次的准确率的均值是：\\n\",cross_val_scores.mean())"
   ]
  },
  {
   "cell_type": "markdown",
   "id": "fe45094c",
   "metadata": {},
   "source": [
    "可以看到KNN的效果非常不好"
   ]
  },
  {
   "cell_type": "markdown",
   "id": "90203fd5",
   "metadata": {},
   "source": [
    "## 朴素贝叶斯（Naive Bayes Classifier，NB）"
   ]
  },
  {
   "cell_type": "markdown",
   "id": "9aca418a",
   "metadata": {},
   "source": [
    "### 先训练一遍模型"
   ]
  },
  {
   "cell_type": "code",
   "execution_count": 27,
   "id": "dc358ba2",
   "metadata": {},
   "outputs": [
    {
     "name": "stdout",
     "output_type": "stream",
     "text": [
      "朴素贝叶斯模型准确率： 1.0\n",
      "\n",
      "朴素贝叶斯模型分类报告：\n",
      "              precision    recall  f1-score   support\n",
      "\n",
      "           0       1.00      1.00      1.00        14\n",
      "           1       1.00      1.00      1.00        14\n",
      "           2       1.00      1.00      1.00         8\n",
      "\n",
      "    accuracy                           1.00        36\n",
      "   macro avg       1.00      1.00      1.00        36\n",
      "weighted avg       1.00      1.00      1.00        36\n",
      "\n"
     ]
    }
   ],
   "source": [
    "from sklearn.naive_bayes import GaussianNB\n",
    "\n",
    "# 朴素贝叶斯模型\n",
    "nb_model = GaussianNB()\n",
    "\n",
    "# 在训练集上训练朴素贝叶斯模型\n",
    "nb_model.fit(X_train, y_train)\n",
    "\n",
    "# 用训练好的朴素贝叶斯模型在测试集上进行预测\n",
    "nb_y_pred = nb_model.predict(X_test)\n",
    "\n",
    "# 计算模型准确率\n",
    "nb_accuracy = accuracy_score(y_test, nb_y_pred)\n",
    "print(\"朴素贝叶斯模型准确率：\", nb_accuracy)\n",
    "print(\"\\n朴素贝叶斯模型分类报告：\")\n",
    "print(classification_report(y_test, nb_y_pred))\n"
   ]
  },
  {
   "cell_type": "markdown",
   "id": "6f008f26",
   "metadata": {},
   "source": [
    "### 十折交叉验证"
   ]
  },
  {
   "cell_type": "code",
   "execution_count": 28,
   "id": "96fe3c5b",
   "metadata": {},
   "outputs": [
    {
     "data": {
      "image/png": "[encoded data removed]",
      "text/plain": [
       "<Figure size 576x432 with 1 Axes>"
      ]
     },
     "metadata": {
      "needs_background": "light"
     },
     "output_type": "display_data"
    }
   ],
   "source": [
    "\n",
    "from sklearn.model_selection import cross_val_score\n",
    "import matplotlib.pyplot as plt\n",
    "\n",
    "# 定义 nb 模型\n",
    "nb_model = GaussianNB()\n",
    "\n",
    "\n",
    "# 进行十折交叉验证，返回十个验证准确率的数组\n",
    "cross_val_scores = cross_val_score(nb_model, X_train, y_train, cv=10)\n",
    "\n",
    "# 定义 X 轴的数据，即交叉验证的折数\n",
    "x_values = range(1, 11)\n",
    "\n",
    "# 绘制折线图\n",
    "plt.figure(figsize=(8, 6))\n",
    "plt.plot(x_values, cross_val_scores, marker='o', linestyle='-')\n",
    "plt.xlabel('Fold')\n",
    "plt.ylabel('Accuracy')\n",
    "plt.title('Cross Validation Scores')\n",
    "plt.xticks(x_values)\n",
    "plt.grid(True)\n",
    "plt.show()"
   ]
  },
  {
   "cell_type": "code",
   "execution_count": 29,
   "id": "27e9fc14",
   "metadata": {},
   "outputs": [
    {
     "name": "stdout",
     "output_type": "stream",
     "text": [
      "这十次的准确率分别是：\n",
      " [1.         1.         1.         0.92857143 0.92857143 1.\n",
      " 0.85714286 0.92857143 0.92857143 1.        ]\n",
      "这十次的准确率的均值是：\n",
      " 0.9571428571428571\n"
     ]
    }
   ],
   "source": [
    "print(\"这十次的准确率分别是：\\n\",cross_val_scores)\n",
    "print(\"这十次的准确率的均值是：\\n\",cross_val_scores.mean())"
   ]
  },
  {
   "cell_type": "markdown",
   "id": "9eb58913",
   "metadata": {},
   "source": [
    "## 梯度提升树（Gradient Boosting Trees，GBT）"
   ]
  },
  {
   "cell_type": "markdown",
   "id": "121fcb84",
   "metadata": {},
   "source": [
    "### 先训练一遍模型"
   ]
  },
  {
   "cell_type": "code",
   "execution_count": 30,
   "id": "13720e53",
   "metadata": {},
   "outputs": [
    {
     "name": "stdout",
     "output_type": "stream",
     "text": [
      "梯度提升模型准确率： 0.9444444444444444\n",
      "\n",
      "分类报告：\n",
      "              precision    recall  f1-score   support\n",
      "\n",
      "           0       0.93      1.00      0.97        14\n",
      "           1       0.93      0.93      0.93        14\n",
      "           2       1.00      0.88      0.93         8\n",
      "\n",
      "    accuracy                           0.94        36\n",
      "   macro avg       0.95      0.93      0.94        36\n",
      "weighted avg       0.95      0.94      0.94        36\n",
      "\n"
     ]
    }
   ],
   "source": [
    "from sklearn.ensemble import GradientBoostingClassifier\n",
    "\n",
    "# 梯度提升模型\n",
    "# 可以调整的参数有：\n",
    "#     learning_rate: 学习率，默认值：0.1。控制每次迭代的步长，也就是控制每次迭代的权重更新幅度。越小学的越精细，但时间也会更长。可以再试试0.001\n",
    "#     n_estimators: 提升树的数量。默认值：100。调参思路：可以从较小的值开始，例如50，以加快模型训练。再逐步增加，找到一个合适的数量，避免过拟合。\n",
    "#     max_depth: 每棵树的最大深度，默认值：3，尝试不同的深度值，可以调整模型的复杂度（越深越复杂），避免过拟合或者欠拟合。\n",
    "gb_model = GradientBoostingClassifier(learning_rate=0.1, n_estimators=100, max_depth=3)\n",
    "\n",
    "# 在训练集上训练梯度提升模型\n",
    "gb_model.fit(X_train, y_train)\n",
    "\n",
    "# 用训练好的梯度提升模型在测试集上进行预测\n",
    "gb_y_pred = gb_model.predict(X_test)\n",
    "\n",
    "# 计算模型准确率\n",
    "gb_accuracy = accuracy_score(y_test, gb_y_pred)\n",
    "print(\"梯度提升模型准确率：\", gb_accuracy)\n",
    "print(\"\\n分类报告：\")\n",
    "print(classification_report(y_test, gb_y_pred))\n"
   ]
  },
  {
   "cell_type": "markdown",
   "id": "a561bdf5",
   "metadata": {},
   "source": [
    "### 十折交叉验证"
   ]
  },
  {
   "cell_type": "code",
   "execution_count": 31,
   "id": "77275380",
   "metadata": {},
   "outputs": [
    {
     "data": {
      "image/png": "[encoded data removed]",
      "text/plain": [
       "<Figure size 576x432 with 1 Axes>"
      ]
     },
     "metadata": {
      "needs_background": "light"
     },
     "output_type": "display_data"
    }
   ],
   "source": [
    "\n",
    "from sklearn.model_selection import cross_val_score\n",
    "import matplotlib.pyplot as plt\n",
    "\n",
    "# 定义 gbt 模型\n",
    "gb_model = GradientBoostingClassifier(learning_rate=0.1, n_estimators=100, max_depth=3)\n",
    "\n",
    "# 进行十折交叉验证，返回十个验证准确率的数组\n",
    "cross_val_scores = cross_val_score(gb_model, X_train, y_train, cv=10)\n",
    "\n",
    "# 定义 X 轴的数据，即交叉验证的折数\n",
    "x_values = range(1, 11)\n",
    "\n",
    "# 绘制折线图\n",
    "plt.figure(figsize=(8, 6))\n",
    "plt.plot(x_values, cross_val_scores, marker='o', linestyle='-')\n",
    "plt.xlabel('Fold')\n",
    "plt.ylabel('Accuracy')\n",
    "plt.title('Cross Validation Scores')\n",
    "plt.xticks(x_values)\n",
    "plt.grid(True)\n",
    "plt.show()"
   ]
  },
  {
   "cell_type": "code",
   "execution_count": 32,
   "id": "5ebce0b2",
   "metadata": {},
   "outputs": [
    {
     "name": "stdout",
     "output_type": "stream",
     "text": [
      "这十次的准确率分别是：\n",
      " [0.93333333 0.93333333 1.         0.85714286 0.78571429 0.92857143\n",
      " 0.85714286 0.92857143 1.         0.85714286]\n",
      "这十次的准确率的均值是：\n",
      " 0.9080952380952383\n"
     ]
    }
   ],
   "source": [
    "print(\"这十次的准确率分别是：\\n\",cross_val_scores)\n",
    "print(\"这十次的准确率的均值是：\\n\",cross_val_scores.mean())"
   ]
  },
  {
   "cell_type": "markdown",
   "id": "7c8f4f7b",
   "metadata": {},
   "source": [
    "## 多层感知机模型（Multilayer Perceptron,MLP）"
   ]
  },
  {
   "cell_type": "markdown",
   "id": "08f50b6a",
   "metadata": {},
   "source": [
    "### 先训练一遍模型"
   ]
  },
  {
   "cell_type": "code",
   "execution_count": 57,
   "id": "87f912ee",
   "metadata": {},
   "outputs": [
    {
     "name": "stdout",
     "output_type": "stream",
     "text": [
      "多层感知机模型准确率： 0.9722222222222222\n",
      "\n",
      "多层感知机分类报告：\n",
      "              precision    recall  f1-score   support\n",
      "\n",
      "           0       1.00      0.93      0.96        14\n",
      "           1       0.93      1.00      0.97        14\n",
      "           2       1.00      1.00      1.00         8\n",
      "\n",
      "    accuracy                           0.97        36\n",
      "   macro avg       0.98      0.98      0.98        36\n",
      "weighted avg       0.97      0.97      0.97        36\n",
      "\n"
     ]
    }
   ],
   "source": [
    "from sklearn.neural_network import MLPClassifier\n",
    "\n",
    "# 多层感知机模型（MLP）\n",
    "# 可以调整的参数有：\n",
    "#     hidden_layer_sizes: 隐藏层的大小。\n",
    "#     activation: 激活函数的类型，如'relu'、'logistic'、'tanh'等。\n",
    "#     solver: 优化算法的选择，如'adam'、'sgd'等。\n",
    "#     max_iter:用于指定训练模型的最大迭代次数。当模型达到指定的最大迭代次数后，即使模型尚未收敛，训练也会停止。\n",
    "mlp_model = MLPClassifier(hidden_layer_sizes=(100,), activation='relu', solver='adam', max_iter=3000,random_state=42)\n",
    "\n",
    "# 在训练集上训练多层感知机模型\n",
    "mlp_model.fit(X_train, y_train)\n",
    "\n",
    "# 用训练好的多层感知机模型在测试集上进行预测\n",
    "mlp_y_pred = mlp_model.predict(X_test)\n",
    "\n",
    "# 计算模型准确率\n",
    "mlp_accuracy = accuracy_score(y_test, mlp_y_pred)\n",
    "print(\"多层感知机模型准确率：\", mlp_accuracy)\n",
    "print(\"\\n多层感知机分类报告：\")\n",
    "print(classification_report(y_test, mlp_y_pred))\n"
   ]
  },
  {
   "cell_type": "markdown",
   "id": "49686387",
   "metadata": {},
   "source": [
    "### 十折交叉验证"
   ]
  },
  {
   "cell_type": "code",
   "execution_count": 34,
   "id": "d2a20815",
   "metadata": {},
   "outputs": [
    {
     "data": {
      "image/png": "[encoded data removed]",
      "text/plain": [
       "<Figure size 576x432 with 1 Axes>"
      ]
     },
     "metadata": {
      "needs_background": "light"
     },
     "output_type": "display_data"
    }
   ],
   "source": [
    "\n",
    "from sklearn.model_selection import cross_val_score\n",
    "import matplotlib.pyplot as plt\n",
    "\n",
    "# 定义 MLP 模型\n",
    "mlp_model = MLPClassifier(hidden_layer_sizes=(100,), activation='relu', solver='adam', max_iter=2000)\n",
    "\n",
    "# 进行十折交叉验证，返回十个验证准确率的数组\n",
    "cross_val_scores = cross_val_score(mlp_model, X_train, y_train, cv=10)\n",
    "\n",
    "# 定义 X 轴的数据，即交叉验证的折数\n",
    "x_values = range(1, 11)\n",
    "\n",
    "# 绘制折线图\n",
    "plt.figure(figsize=(8, 6))\n",
    "plt.plot(x_values, cross_val_scores, marker='o', linestyle='-')\n",
    "plt.xlabel('Fold')\n",
    "plt.ylabel('Accuracy')\n",
    "plt.title('Cross Validation Scores')\n",
    "plt.xticks(x_values)\n",
    "plt.grid(True)\n",
    "plt.show()"
   ]
  },
  {
   "cell_type": "code",
   "execution_count": 35,
   "id": "42d0e4fe",
   "metadata": {},
   "outputs": [
    {
     "name": "stdout",
     "output_type": "stream",
     "text": [
      "这十次的准确率分别是：\n",
      " [1.         0.13333333 0.64285714 0.92857143 0.35714286 0.57142857\n",
      " 0.57142857 1.         0.35714286 0.64285714]\n",
      "这十次的准确率的均值是：\n",
      " 0.6204761904761905\n"
     ]
    }
   ],
   "source": [
    "print(\"这十次的准确率分别是：\\n\",cross_val_scores)\n",
    "print(\"这十次的准确率的均值是：\\n\",cross_val_scores.mean())"
   ]
  },
  {
   "cell_type": "markdown",
   "id": "6b0666d5",
   "metadata": {},
   "source": [
    "## AdaBoost"
   ]
  },
  {
   "cell_type": "markdown",
   "id": "3a6c5aea",
   "metadata": {},
   "source": [
    "### 先训练一遍模型"
   ]
  },
  {
   "cell_type": "code",
   "execution_count": 36,
   "id": "50270914",
   "metadata": {},
   "outputs": [
    {
     "name": "stdout",
     "output_type": "stream",
     "text": [
      "AdaBoost 模型准确率： 0.9166666666666666\n",
      "\n",
      "AdaBoost 分类报告：\n",
      "              precision    recall  f1-score   support\n",
      "\n",
      "           0       1.00      0.86      0.92        14\n",
      "           1       0.82      1.00      0.90        14\n",
      "           2       1.00      0.88      0.93         8\n",
      "\n",
      "    accuracy                           0.92        36\n",
      "   macro avg       0.94      0.91      0.92        36\n",
      "weighted avg       0.93      0.92      0.92        36\n",
      "\n"
     ]
    }
   ],
   "source": [
    "from sklearn.ensemble import AdaBoostClassifier\n",
    "\n",
    "# AdaBoost 模型\n",
    "# 可以调整的参数有：\n",
    "#     n_estimators: 弱学习器的数量。\n",
    "#     learning_rate: 学习率，用于控制每个弱学习器的权重更新幅度。\n",
    "adaboost_model = AdaBoostClassifier(base_estimator=None, n_estimators=50, learning_rate=1.0)\n",
    "\n",
    "# 在训练集上训练 AdaBoost 模型\n",
    "adaboost_model.fit(X_train, y_train)\n",
    "\n",
    "# 用训练好的 AdaBoost 模型在测试集上进行预测\n",
    "adaboost_y_pred = adaboost_model.predict(X_test)\n",
    "\n",
    "# 计算模型准确率\n",
    "adaboost_accuracy = accuracy_score(y_test, adaboost_y_pred)\n",
    "print(\"AdaBoost 模型准确率：\", adaboost_accuracy)\n",
    "print(\"\\nAdaBoost 分类报告：\")\n",
    "print(classification_report(y_test, adaboost_y_pred))\n"
   ]
  },
  {
   "cell_type": "markdown",
   "id": "a586b044",
   "metadata": {},
   "source": [
    "### 十折交叉验证"
   ]
  },
  {
   "cell_type": "code",
   "execution_count": 37,
   "id": "40fce48a",
   "metadata": {},
   "outputs": [
    {
     "data": {
      "image/png": "[encoded data removed]",
      "text/plain": [
       "<Figure size 576x432 with 1 Axes>"
      ]
     },
     "metadata": {
      "needs_background": "light"
     },
     "output_type": "display_data"
    }
   ],
   "source": [
    "\n",
    "from sklearn.model_selection import cross_val_score\n",
    "import matplotlib.pyplot as plt\n",
    "\n",
    "# 定义 adaboost_model 模型\n",
    "adaboost_model = AdaBoostClassifier(base_estimator=None, n_estimators=50, learning_rate=1.0)\n",
    "\n",
    "# 进行十折交叉验证，返回十个验证准确率的数组\n",
    "cross_val_scores = cross_val_score(adaboost_model, X_train, y_train, cv=10)\n",
    "\n",
    "# 定义 X 轴的数据，即交叉验证的折数\n",
    "x_values = range(1, 11)\n",
    "\n",
    "# 绘制折线图\n",
    "plt.figure(figsize=(8, 6))\n",
    "plt.plot(x_values, cross_val_scores, marker='o', linestyle='-')\n",
    "plt.xlabel('Fold')\n",
    "plt.ylabel('Accuracy')\n",
    "plt.title('Cross Validation Scores')\n",
    "plt.xticks(x_values)\n",
    "plt.grid(True)\n",
    "plt.show()"
   ]
  },
  {
   "cell_type": "code",
   "execution_count": 38,
   "id": "56ba0595",
   "metadata": {},
   "outputs": [
    {
     "name": "stdout",
     "output_type": "stream",
     "text": [
      "这十次的准确率分别是：\n",
      " [0.86666667 0.93333333 1.         0.85714286 0.71428571 1.\n",
      " 0.78571429 0.92857143 1.         0.92857143]\n",
      "这十次的准确率的均值是：\n",
      " 0.9014285714285715\n"
     ]
    }
   ],
   "source": [
    "print(\"这十次的准确率分别是：\\n\",cross_val_scores)\n",
    "print(\"这十次的准确率的均值是：\\n\",cross_val_scores.mean())"
   ]
  },
  {
   "cell_type": "markdown",
   "id": "f434f4d3",
   "metadata": {},
   "source": [
    "## XGboost"
   ]
  },
  {
   "cell_type": "markdown",
   "id": "b60f1e0e",
   "metadata": {},
   "source": [
    "### 先训练一遍模型"
   ]
  },
  {
   "cell_type": "code",
   "execution_count": 39,
   "id": "316e4360",
   "metadata": {},
   "outputs": [
    {
     "name": "stdout",
     "output_type": "stream",
     "text": [
      "XGBoost 模型准确率： 0.9722222222222222\n",
      "\n",
      "XGBoost分类报告：\n",
      "              precision    recall  f1-score   support\n",
      "\n",
      "           0       1.00      1.00      1.00        14\n",
      "           1       0.93      1.00      0.97        14\n",
      "           2       1.00      0.88      0.93         8\n",
      "\n",
      "    accuracy                           0.97        36\n",
      "   macro avg       0.98      0.96      0.97        36\n",
      "weighted avg       0.97      0.97      0.97        36\n",
      "\n"
     ]
    }
   ],
   "source": [
    "import xgboost as xgb\n",
    "\n",
    "# XGBoost 模型\n",
    "# 可以调整的参数有：\n",
    "#     max_depth: 树的最大深度。\n",
    "#     learning_rate: 学习率，用于控制每次迭代的步长。\n",
    "#     n_estimators: 树的数量，也就是迭代次数。\n",
    "#     objective: 损失函数的选择，常见的有'binary:logistic'（二分类）和'multi:softmax'（多分类）等。\n",
    "#     eval_metric: 评估指标的选择，例如'error'、'logloss'等。\n",
    "xgboost_model = xgb.XGBClassifier(max_depth=3, learning_rate=0.1, n_estimators=100, objective='multi:softmax')\n",
    "\n",
    "# 在训练集上训练 XGBoost 模型\n",
    "xgboost_model.fit(X_train, y_train)\n",
    "\n",
    "# 用训练好的 XGBoost 模型在测试集上进行预测\n",
    "xgboost_y_pred = xgboost_model.predict(X_test)\n",
    "\n",
    "# 计算模型准确率\n",
    "xgboost_accuracy = accuracy_score(y_test, xgboost_y_pred)\n",
    "print(\"XGBoost 模型准确率：\", xgboost_accuracy)\n",
    "print(\"\\nXGBoost分类报告：\")\n",
    "print(classification_report(y_test, xgboost_y_pred))\n"
   ]
  },
  {
   "cell_type": "markdown",
   "id": "2c6557e5",
   "metadata": {},
   "source": [
    "### 十折交叉验证\n"
   ]
  },
  {
   "cell_type": "code",
   "execution_count": 40,
   "id": "110a2de2",
   "metadata": {},
   "outputs": [
    {
     "data": {
      "image/png": "[encoded data removed]",
      "text/plain": [
       "<Figure size 576x432 with 1 Axes>"
      ]
     },
     "metadata": {
      "needs_background": "light"
     },
     "output_type": "display_data"
    }
   ],
   "source": [
    "\n",
    "from sklearn.model_selection import cross_val_score\n",
    "import matplotlib.pyplot as plt\n",
    "\n",
    "# 定义 XGBoost 模型\n",
    "xgboost_model = xgb.XGBClassifier(max_depth=3, learning_rate=0.1, n_estimators=100, objective='binary:logistic')\n",
    "\n",
    "# 进行十折交叉验证，返回十个验证准确率的数组\n",
    "cross_val_scores = cross_val_score(xgboost_model, X_train, y_train, cv=10)\n",
    "\n",
    "# 定义 X 轴的数据，即交叉验证的折数\n",
    "x_values = range(1, 11)\n",
    "\n",
    "# 绘制折线图\n",
    "plt.figure(figsize=(8, 6))\n",
    "plt.plot(x_values, cross_val_scores, marker='o', linestyle='-')\n",
    "plt.xlabel('Fold')\n",
    "plt.ylabel('Accuracy')\n",
    "plt.title('Cross Validation Scores')\n",
    "plt.xticks(x_values)\n",
    "plt.grid(True)\n",
    "plt.show()"
   ]
  },
  {
   "cell_type": "code",
   "execution_count": 41,
   "id": "b723d6f5",
   "metadata": {},
   "outputs": [
    {
     "name": "stdout",
     "output_type": "stream",
     "text": [
      "这十次的准确率分别是：\n",
      " [0.93333333 1.         1.         0.85714286 0.85714286 1.\n",
      " 0.92857143 0.92857143 1.         0.92857143]\n",
      "这十次的准确率的均值是：\n",
      " 0.9433333333333334\n"
     ]
    }
   ],
   "source": [
    "print(\"这十次的准确率分别是：\\n\",cross_val_scores)\n",
    "print(\"这十次的准确率的均值是：\\n\",cross_val_scores.mean())"
   ]
  },
  {
   "cell_type": "markdown",
   "id": "f8c2f396",
   "metadata": {},
   "source": [
    "# 选一个表现较好的模型，作为最终的模型并预测"
   ]
  },
  {
   "cell_type": "code",
   "execution_count": 42,
   "id": "8773bc7a",
   "metadata": {},
   "outputs": [],
   "source": [
    "#训练一个机器学习模型，我们最终想要得到两个东西：\n",
    "# 1.训练好的机器学习模型\n",
    "# 2.在不知道标签的数据上，预测出标签。\n",
    "\n",
    "\n",
    "# 这里我们没有真正的不知道标签的数据，但是我们假设测试集X_test的标签y_test是未知的，\n",
    "# 用训练好的表现最好的机器学习模型对这部分数据进行预测，作为我们的结果。\n"
   ]
  },
  {
   "cell_type": "markdown",
   "id": "8abe7136",
   "metadata": {},
   "source": [
    "## 预测结果"
   ]
  },
  {
   "cell_type": "code",
   "execution_count": 43,
   "id": "19f5c16c",
   "metadata": {},
   "outputs": [
    {
     "name": "stdout",
     "output_type": "stream",
     "text": [
      "随机森林模型准确率： 1.0\n",
      "\n",
      "随机森林分类报告：\n",
      "              precision    recall  f1-score   support\n",
      "\n",
      "           0       1.00      1.00      1.00        14\n",
      "           1       1.00      1.00      1.00        14\n",
      "           2       1.00      1.00      1.00         8\n",
      "\n",
      "    accuracy                           1.00        36\n",
      "   macro avg       1.00      1.00      1.00        36\n",
      "weighted avg       1.00      1.00      1.00        36\n",
      "\n",
      "标准答案是 [0 0 2 0 1 0 1 2 1 2 0 2 0 1 0 1 1 1 0 1 0 1 1 2 2 2 1 1 1 0 0 1 2 0 0 0]\n",
      "最后在测试集上的预测结果是 [0 0 2 0 1 0 1 2 1 2 0 2 0 1 0 1 1 1 0 1 0 1 1 2 2 2 1 1 1 0 0 1 2 0 0 0]\n"
     ]
    }
   ],
   "source": [
    "from sklearn.ensemble import RandomForestClassifier\n",
    "\n",
    "# 定义随机森林模型\n",
    "random_forest_model = RandomForestClassifier(n_estimators=100)\n",
    "\n",
    "# 在训练集上训练随机森林模型\n",
    "random_forest_model.fit(X_train, y_train)\n",
    "\n",
    "# 在测试集上进行预测\n",
    "random_forest_y_pred = random_forest_model.predict(X_test)\n",
    "\n",
    "# 计算随机森林模型的准确率\n",
    "random_forest_accuracy = accuracy_score(y_test, random_forest_y_pred)\n",
    "print(\"随机森林模型准确率：\", random_forest_accuracy)\n",
    "print(\"\\n随机森林分类报告：\")\n",
    "print(classification_report(y_test, random_forest_y_pred))\n",
    "print(\"标准答案是\",y_test.values)\n",
    "print(\"最后在测试集上的预测结果是\",random_forest_y_pred)\n",
    "\n",
    "#可以看出，预测结果和标准答案一模一样，准确率达到了100%。"
   ]
  },
  {
   "cell_type": "markdown",
   "id": "824d8e1f",
   "metadata": {},
   "source": [
    "## 保存模型"
   ]
  },
  {
   "cell_type": "code",
   "execution_count": 44,
   "id": "54a037dd",
   "metadata": {},
   "outputs": [
    {
     "data": {
      "text/plain": [
       "['random_forest_model.joblib']"
      ]
     },
     "execution_count": 44,
     "metadata": {},
     "output_type": "execute_result"
    }
   ],
   "source": [
    "# 保存模型到文件\n",
    "import joblib\n",
    "\n",
    "# joblib 这个Python 库，用于储存数据，特别是涉及大量数据的机器学习模型。\n",
    "joblib.dump(random_forest_model, 'random_forest_model.joblib')\n",
    "# 把模型保存为一个名为random_forest_model.joblib的文件,就在这个文件夹下\n",
    "\n",
    "# ”random_forest_model.joblib“这个文件中保存的是机器学习模型的属性和参数。\n",
    "# 比如模型的结构、学习到的参数（例如，决策树的结构、支持向量机的支持向量等）\n"
   ]
  },
  {
   "cell_type": "markdown",
   "id": "d86e2c20",
   "metadata": {},
   "source": [
    "## 重新读取训练好的模型"
   ]
  },
  {
   "cell_type": "code",
   "execution_count": 45,
   "id": "a8762643",
   "metadata": {},
   "outputs": [
    {
     "name": "stdout",
     "output_type": "stream",
     "text": [
      "加载的随机森林模型准确率： 1.0\n"
     ]
    }
   ],
   "source": [
    "random_forest_model = joblib.load('random_forest_model.joblib')\n",
    "\n",
    "# 使用加载的模型进行预测\n",
    "loaded_rf_y_pred = random_forest_model.predict(X_test)\n",
    "\n",
    "# 计算加载的模型准确率\n",
    "loaded_rf_y_pred_accuracy = accuracy_score(y_test, loaded_rf_y_pred)\n",
    "print(\"加载的随机森林模型准确率：\", loaded_rf_y_pred_accuracy)\n"
   ]
  },
  {
   "cell_type": "markdown",
   "id": "677303ef",
   "metadata": {},
   "source": [
    "# 数据标准化及效果对比"
   ]
  },
  {
   "cell_type": "markdown",
   "id": "addf0e93",
   "metadata": {},
   "source": [
    "## 什么是数据标准化"
   ]
  },
  {
   "cell_type": "code",
   "execution_count": 46,
   "id": "4620f0d5",
   "metadata": {},
   "outputs": [],
   "source": [
    "# 数据标准化/归一化是一种数据预处理方法。\n",
    "# 数据标准化/归一化将数据调整为一定的范围\n",
    "# 一般有两种：\n",
    "# 1.缩到0到1之间（归一化）\n",
    "# 2.让数据的均值为0，方差为1（标准化）\n"
   ]
  },
  {
   "cell_type": "markdown",
   "id": "d3126fb3",
   "metadata": {},
   "source": [
    "## 为什么要数据标准化"
   ]
  },
  {
   "cell_type": "code",
   "execution_count": 47,
   "id": "caa1cb60",
   "metadata": {},
   "outputs": [],
   "source": [
    "#标准化的目的是消除数据中的单位尺度差异，使得特征之间可以公平比较，同时也能加快某些算法的收敛速度。"
   ]
  },
  {
   "cell_type": "markdown",
   "id": "18f55a60",
   "metadata": {},
   "source": [
    "## 什么机器学习算法，对数据标准化比较敏感"
   ]
  },
  {
   "cell_type": "code",
   "execution_count": 48,
   "id": "ac3098de",
   "metadata": {},
   "outputs": [],
   "source": [
    "# 不是所有的机器学习方法对数据是否标准化都敏感。\n",
    "# 比如，从上面的结果可以看出，基于树的算法（如决策树、随机森林和梯度提升机），在没有进行数据标准化的情况下，表现依旧很好。\n",
    "# 这是因为，这些算法在做决策时主要考虑数据点的排序或分类而不是具体数值。\n",
    "\n",
    "# 那么什么机器学习算法，对数据是否标准化比较敏感呢？\n",
    "# 总的来说，以下两类机器学习方法对数据是否标准化比较敏感。\n",
    "# 1.基于梯度的方法，如神经网络。\n",
    "# 2.基于距离的算法：如K-近邻（KNN）、支持向量机（SVM）。\n",
    "\n",
    "# 为什么这两类算法对数据是否标准化敏感呢？\n",
    "# 因为这两类算法对数据的尺度和分布非常敏感。\n",
    "# 所以，这两类算法在数据标准化后，效果可能会有很大的提升。\n",
    "\n",
    "# 从上面的代码中，我们可以看到，KNN和SVM的效果相较于决策树，并不好。\n",
    "# 下面我将以SVM模型为例，展示，数据标准化后，SVM的效果会有很大的提升。\n",
    "# 大家也可以试试，其他模型，在数据标准化后的效果。\n",
    "\n"
   ]
  },
  {
   "cell_type": "markdown",
   "id": "a53b8893",
   "metadata": {},
   "source": [
    "## 数据标准化后的模型效果前后对比"
   ]
  },
  {
   "cell_type": "markdown",
   "id": "7be818b7",
   "metadata": {},
   "source": [
    "### 数据标准化"
   ]
  },
  {
   "cell_type": "code",
   "execution_count": 49,
   "id": "f68e2049",
   "metadata": {},
   "outputs": [],
   "source": [
    "# 通常使用Sklearn库中的StandardScaler对数据进行标准化(不用自己写公式的代码)\n",
    "from sklearn.preprocessing import StandardScaler\n",
    "\n",
    "# 初始化StandardScaler对象\n",
    "scaler = StandardScaler()\n",
    "\n",
    "# 用训练数据拟合scaler\n",
    "scaler.fit(X_train)\n",
    "\n",
    "# 转换训练集和测试集\n",
    "X_train_scaled = scaler.transform(X_train)\n",
    "X_test_scaled = scaler.transform(X_test)\n"
   ]
  },
  {
   "cell_type": "code",
   "execution_count": 50,
   "id": "46a36891",
   "metadata": {},
   "outputs": [
    {
     "data": {
      "text/html": [
       "<div>\n",
       "<style scoped>\n",
       "    .dataframe tbody tr th:only-of-type {\n",
       "        vertical-align: middle;\n",
       "    }\n",
       "\n",
       "    .dataframe tbody tr th {\n",
       "        vertical-align: top;\n",
       "    }\n",
       "\n",
       "    .dataframe thead th {\n",
       "        text-align: right;\n",
       "    }\n",
       "</style>\n",
       "<table border=\"1\" class=\"dataframe\">\n",
       "  <thead>\n",
       "    <tr style=\"text-align: right;\">\n",
       "      <th></th>\n",
       "      <th>alcohol</th>\n",
       "      <th>malic_acid</th>\n",
       "      <th>ash</th>\n",
       "      <th>alcalinity_of_ash</th>\n",
       "      <th>magnesium</th>\n",
       "      <th>total_phenols</th>\n",
       "      <th>flavanoids</th>\n",
       "      <th>nonflavanoid_phenols</th>\n",
       "      <th>proanthocyanins</th>\n",
       "      <th>color_intensity</th>\n",
       "      <th>hue</th>\n",
       "      <th>od280/od315_of_diluted_wines</th>\n",
       "      <th>proline</th>\n",
       "    </tr>\n",
       "  </thead>\n",
       "  <tbody>\n",
       "    <tr>\n",
       "      <th>158</th>\n",
       "      <td>14.34</td>\n",
       "      <td>1.68</td>\n",
       "      <td>2.70</td>\n",
       "      <td>25.0</td>\n",
       "      <td>98.0</td>\n",
       "      <td>2.80</td>\n",
       "      <td>1.31</td>\n",
       "      <td>0.53</td>\n",
       "      <td>2.70</td>\n",
       "      <td>13.00</td>\n",
       "      <td>0.57</td>\n",
       "      <td>1.96</td>\n",
       "      <td>660.0</td>\n",
       "    </tr>\n",
       "    <tr>\n",
       "      <th>137</th>\n",
       "      <td>12.53</td>\n",
       "      <td>5.51</td>\n",
       "      <td>2.64</td>\n",
       "      <td>25.0</td>\n",
       "      <td>96.0</td>\n",
       "      <td>1.79</td>\n",
       "      <td>0.60</td>\n",
       "      <td>0.63</td>\n",
       "      <td>1.10</td>\n",
       "      <td>5.00</td>\n",
       "      <td>0.82</td>\n",
       "      <td>1.69</td>\n",
       "      <td>515.0</td>\n",
       "    </tr>\n",
       "    <tr>\n",
       "      <th>98</th>\n",
       "      <td>12.37</td>\n",
       "      <td>1.07</td>\n",
       "      <td>2.10</td>\n",
       "      <td>18.5</td>\n",
       "      <td>88.0</td>\n",
       "      <td>3.52</td>\n",
       "      <td>3.75</td>\n",
       "      <td>0.24</td>\n",
       "      <td>1.95</td>\n",
       "      <td>4.50</td>\n",
       "      <td>1.04</td>\n",
       "      <td>2.77</td>\n",
       "      <td>660.0</td>\n",
       "    </tr>\n",
       "    <tr>\n",
       "      <th>159</th>\n",
       "      <td>13.48</td>\n",
       "      <td>1.67</td>\n",
       "      <td>2.64</td>\n",
       "      <td>22.5</td>\n",
       "      <td>89.0</td>\n",
       "      <td>2.60</td>\n",
       "      <td>1.10</td>\n",
       "      <td>0.52</td>\n",
       "      <td>2.29</td>\n",
       "      <td>11.75</td>\n",
       "      <td>0.57</td>\n",
       "      <td>1.78</td>\n",
       "      <td>620.0</td>\n",
       "    </tr>\n",
       "    <tr>\n",
       "      <th>38</th>\n",
       "      <td>13.07</td>\n",
       "      <td>1.50</td>\n",
       "      <td>2.10</td>\n",
       "      <td>15.5</td>\n",
       "      <td>98.0</td>\n",
       "      <td>2.40</td>\n",
       "      <td>2.64</td>\n",
       "      <td>0.28</td>\n",
       "      <td>1.37</td>\n",
       "      <td>3.70</td>\n",
       "      <td>1.18</td>\n",
       "      <td>2.69</td>\n",
       "      <td>1020.0</td>\n",
       "    </tr>\n",
       "    <tr>\n",
       "      <th>...</th>\n",
       "      <td>...</td>\n",
       "      <td>...</td>\n",
       "      <td>...</td>\n",
       "      <td>...</td>\n",
       "      <td>...</td>\n",
       "      <td>...</td>\n",
       "      <td>...</td>\n",
       "      <td>...</td>\n",
       "      <td>...</td>\n",
       "      <td>...</td>\n",
       "      <td>...</td>\n",
       "      <td>...</td>\n",
       "      <td>...</td>\n",
       "    </tr>\n",
       "    <tr>\n",
       "      <th>71</th>\n",
       "      <td>13.86</td>\n",
       "      <td>1.51</td>\n",
       "      <td>2.67</td>\n",
       "      <td>25.0</td>\n",
       "      <td>86.0</td>\n",
       "      <td>2.95</td>\n",
       "      <td>2.86</td>\n",
       "      <td>0.21</td>\n",
       "      <td>1.87</td>\n",
       "      <td>3.38</td>\n",
       "      <td>1.36</td>\n",
       "      <td>3.16</td>\n",
       "      <td>410.0</td>\n",
       "    </tr>\n",
       "    <tr>\n",
       "      <th>106</th>\n",
       "      <td>12.25</td>\n",
       "      <td>1.73</td>\n",
       "      <td>2.12</td>\n",
       "      <td>19.0</td>\n",
       "      <td>80.0</td>\n",
       "      <td>1.65</td>\n",
       "      <td>2.03</td>\n",
       "      <td>0.37</td>\n",
       "      <td>1.63</td>\n",
       "      <td>3.40</td>\n",
       "      <td>1.00</td>\n",
       "      <td>3.17</td>\n",
       "      <td>510.0</td>\n",
       "    </tr>\n",
       "    <tr>\n",
       "      <th>14</th>\n",
       "      <td>14.38</td>\n",
       "      <td>1.87</td>\n",
       "      <td>2.38</td>\n",
       "      <td>12.0</td>\n",
       "      <td>102.0</td>\n",
       "      <td>3.30</td>\n",
       "      <td>3.64</td>\n",
       "      <td>0.29</td>\n",
       "      <td>2.96</td>\n",
       "      <td>7.50</td>\n",
       "      <td>1.20</td>\n",
       "      <td>3.00</td>\n",
       "      <td>1547.0</td>\n",
       "    </tr>\n",
       "    <tr>\n",
       "      <th>92</th>\n",
       "      <td>12.69</td>\n",
       "      <td>1.53</td>\n",
       "      <td>2.26</td>\n",
       "      <td>20.7</td>\n",
       "      <td>80.0</td>\n",
       "      <td>1.38</td>\n",
       "      <td>1.46</td>\n",
       "      <td>0.58</td>\n",
       "      <td>1.62</td>\n",
       "      <td>3.05</td>\n",
       "      <td>0.96</td>\n",
       "      <td>2.06</td>\n",
       "      <td>495.0</td>\n",
       "    </tr>\n",
       "    <tr>\n",
       "      <th>102</th>\n",
       "      <td>12.34</td>\n",
       "      <td>2.45</td>\n",
       "      <td>2.46</td>\n",
       "      <td>21.0</td>\n",
       "      <td>98.0</td>\n",
       "      <td>2.56</td>\n",
       "      <td>2.11</td>\n",
       "      <td>0.34</td>\n",
       "      <td>1.31</td>\n",
       "      <td>2.80</td>\n",
       "      <td>0.80</td>\n",
       "      <td>3.38</td>\n",
       "      <td>438.0</td>\n",
       "    </tr>\n",
       "  </tbody>\n",
       "</table>\n",
       "<p>142 rows × 13 columns</p>\n",
       "</div>"
      ],
      "text/plain": [
       "     alcohol  malic_acid   ash  alcalinity_of_ash  magnesium  total_phenols  \\\n",
       "158    14.34        1.68  2.70               25.0       98.0           2.80   \n",
       "137    12.53        5.51  2.64               25.0       96.0           1.79   \n",
       "98     12.37        1.07  2.10               18.5       88.0           3.52   \n",
       "159    13.48        1.67  2.64               22.5       89.0           2.60   \n",
       "38     13.07        1.50  2.10               15.5       98.0           2.40   \n",
       "..       ...         ...   ...                ...        ...            ...   \n",
       "71     13.86        1.51  2.67               25.0       86.0           2.95   \n",
       "106    12.25        1.73  2.12               19.0       80.0           1.65   \n",
       "14     14.38        1.87  2.38               12.0      102.0           3.30   \n",
       "92     12.69        1.53  2.26               20.7       80.0           1.38   \n",
       "102    12.34        2.45  2.46               21.0       98.0           2.56   \n",
       "\n",
       "     flavanoids  nonflavanoid_phenols  proanthocyanins  color_intensity   hue  \\\n",
       "158        1.31                  0.53             2.70            13.00  0.57   \n",
       "137        0.60                  0.63             1.10             5.00  0.82   \n",
       "98         3.75                  0.24             1.95             4.50  1.04   \n",
       "159        1.10                  0.52             2.29            11.75  0.57   \n",
       "38         2.64                  0.28             1.37             3.70  1.18   \n",
       "..          ...                   ...              ...              ...   ...   \n",
       "71         2.86                  0.21             1.87             3.38  1.36   \n",
       "106        2.03                  0.37             1.63             3.40  1.00   \n",
       "14         3.64                  0.29             2.96             7.50  1.20   \n",
       "92         1.46                  0.58             1.62             3.05  0.96   \n",
       "102        2.11                  0.34             1.31             2.80  0.80   \n",
       "\n",
       "     od280/od315_of_diluted_wines  proline  \n",
       "158                          1.96    660.0  \n",
       "137                          1.69    515.0  \n",
       "98                           2.77    660.0  \n",
       "159                          1.78    620.0  \n",
       "38                           2.69   1020.0  \n",
       "..                            ...      ...  \n",
       "71                           3.16    410.0  \n",
       "106                          3.17    510.0  \n",
       "14                           3.00   1547.0  \n",
       "92                           2.06    495.0  \n",
       "102                          3.38    438.0  \n",
       "\n",
       "[142 rows x 13 columns]"
      ]
     },
     "execution_count": 50,
     "metadata": {},
     "output_type": "execute_result"
    }
   ],
   "source": [
    "#查看原来的数据\n",
    "X_train"
   ]
  },
  {
   "cell_type": "code",
   "execution_count": 51,
   "id": "0a91648b",
   "metadata": {},
   "outputs": [
    {
     "data": {
      "text/plain": [
       "array([[ 1.66529275, -0.60840587,  1.21896194, ..., -1.65632857,\n",
       "        -0.87940904, -0.24860607],\n",
       "       [-0.54952506,  2.7515415 ,  1.00331502, ..., -0.58463272,\n",
       "        -1.25462095, -0.72992237],\n",
       "       [-0.74531007, -1.14354109, -0.93750727, ...,  0.35845962,\n",
       "         0.2462267 , -0.24860607],\n",
       "       ...,\n",
       "       [ 1.714239  , -0.44172441,  0.06884503, ...,  1.04434496,\n",
       "         0.56585166,  2.69572196],\n",
       "       [-0.35374006, -0.7399965 , -0.36244882, ...,  0.01551695,\n",
       "        -0.74044166, -0.79631083],\n",
       "       [-0.78201975,  0.06709269,  0.35637426, ..., -0.67036839,\n",
       "         1.09392769, -0.98551793]])"
      ]
     },
     "execution_count": 51,
     "metadata": {},
     "output_type": "execute_result"
    }
   ],
   "source": [
    "#查看标准化后的数据，可以看到，数据变成了均值为0，方差为1的数据\n",
    "X_train_scaled"
   ]
  },
  {
   "cell_type": "markdown",
   "id": "0a5563c8",
   "metadata": {},
   "source": [
    "### 数据标准化后，SVM的效果"
   ]
  },
  {
   "cell_type": "code",
   "execution_count": 52,
   "id": "b5a1cfb3",
   "metadata": {},
   "outputs": [
    {
     "name": "stdout",
     "output_type": "stream",
     "text": [
      "\n",
      "数据标准化后的支持向量机模型准确率： 1.0\n",
      "\n",
      "数据标准化后的支持向量机分类报告：\n",
      "              precision    recall  f1-score   support\n",
      "\n",
      "           0       1.00      1.00      1.00        14\n",
      "           1       1.00      1.00      1.00        14\n",
      "           2       1.00      1.00      1.00         8\n",
      "\n",
      "    accuracy                           1.00        36\n",
      "   macro avg       1.00      1.00      1.00        36\n",
      "weighted avg       1.00      1.00      1.00        36\n",
      "\n"
     ]
    }
   ],
   "source": [
    "from sklearn.svm import SVC\n",
    "\n",
    "\n",
    "svm_model = SVC(C=1, kernel='rbf')\n",
    "\n",
    "# 在训练集上训练支持向量机模型\n",
    "#注意，这里我已经把数据换成了标准化后的数据，X_train_scaled，而不是原来的X_train\n",
    "svm_model.fit(X_train_scaled, y_train)\n",
    "\n",
    "# 用刚才训练好的名字叫svm_model的svm模型，在测试集上进行预测\n",
    "# 注意，这里我已经把测试数据换成了标准化后的数据，X_test_scaled，而不是原来的X_test\n",
    "svm_y_pred = svm_model.predict(X_test_scaled)\n",
    "\n",
    "svm_accuracy = accuracy_score(y_test, svm_y_pred)\n",
    "print(\"\\n数据标准化后的支持向量机模型准确率：\", svm_accuracy)\n",
    "print(\"\\n数据标准化后的支持向量机分类报告：\")\n",
    "print(classification_report(y_test, svm_y_pred))"
   ]
  },
  {
   "cell_type": "code",
   "execution_count": 53,
   "id": "1dbafded",
   "metadata": {},
   "outputs": [
    {
     "data": {
      "image/png": "[encoded data removed]",
      "text/plain": [
       "<Figure size 576x432 with 1 Axes>"
      ]
     },
     "metadata": {
      "needs_background": "light"
     },
     "output_type": "display_data"
    }
   ],
   "source": [
    "from sklearn.model_selection import cross_val_score\n",
    "import matplotlib.pyplot as plt\n",
    "\n",
    "# 定义 svm 模型\n",
    "svm_model = SVC(C=1, kernel='rbf')\n",
    "\n",
    "# 进行十折交叉验证，返回十个验证准确率的数组\n",
    "cross_val_scores = cross_val_score(svm_model, X_train_scaled, y_train, cv=10)\n",
    "\n",
    "# 定义 X 轴的数据，即交叉验证的折数\n",
    "x_values = range(1, 11)\n",
    "\n",
    "# 绘制折线图\n",
    "plt.figure(figsize=(8, 6))\n",
    "plt.plot(x_values, cross_val_scores, marker='o', linestyle='-')\n",
    "plt.xlabel('Fold')\n",
    "plt.ylabel('Accuracy')\n",
    "plt.title('Cross Validation Scores')\n",
    "plt.xticks(x_values)\n",
    "plt.grid(True)\n",
    "plt.show()"
   ]
  },
  {
   "cell_type": "code",
   "execution_count": 54,
   "id": "7dd435d1",
   "metadata": {},
   "outputs": [
    {
     "name": "stdout",
     "output_type": "stream",
     "text": [
      "这十次的准确率分别是：\n",
      " [0.93333333 1.         1.         0.92857143 1.         1.\n",
      " 0.92857143 1.         1.         0.92857143]\n",
      "这十次的准确率的均值是：\n",
      " 0.971904761904762\n"
     ]
    }
   ],
   "source": [
    "print(\"这十次的准确率分别是：\\n\",cross_val_scores)\n",
    "print(\"这十次的准确率的均值是：\\n\",cross_val_scores.mean())\n",
    "\n",
    "## 可以看到，模型效果提升了非常多"
   ]
  },
  {
   "cell_type": "markdown",
   "id": "879537e6",
   "metadata": {},
   "source": [
    "### 让我们回忆一下，数据标准化之前SVM模型的效果"
   ]
  },
  {
   "cell_type": "code",
   "execution_count": 55,
   "id": "181fd005",
   "metadata": {},
   "outputs": [
    {
     "name": "stdout",
     "output_type": "stream",
     "text": [
      "\n",
      "未进行数据标准化的支持向量机模型准确率： 0.8055555555555556\n",
      "\n",
      "未进行数据标准化的支持向量机分类报告：\n",
      "              precision    recall  f1-score   support\n",
      "\n",
      "           0       1.00      1.00      1.00        14\n",
      "           1       0.73      0.79      0.76        14\n",
      "           2       0.57      0.50      0.53         8\n",
      "\n",
      "    accuracy                           0.81        36\n",
      "   macro avg       0.77      0.76      0.76        36\n",
      "weighted avg       0.80      0.81      0.80        36\n",
      "\n"
     ]
    }
   ],
   "source": [
    "from sklearn.svm import SVC\n",
    "\n",
    "\n",
    "svm_model = SVC(C=1, kernel='rbf')\n",
    "\n",
    "# 在训练集上训练支持向量机模型\n",
    "#注意，这里我已经是原来的X_train\n",
    "svm_model.fit(X_train, y_train)\n",
    "\n",
    "# 用刚才训练好的名字叫svm_model的svm模型，在测试集上进行预测\n",
    "svm_y_pred = svm_model.predict(X_test)\n",
    "\n",
    "svm_accuracy = accuracy_score(y_test, svm_y_pred)\n",
    "print(\"\\n未进行数据标准化的支持向量机模型准确率：\", svm_accuracy)\n",
    "print(\"\\n未进行数据标准化的支持向量机分类报告：\")\n",
    "print(classification_report(y_test, svm_y_pred))"
   ]
  },
  {
   "cell_type": "code",
   "execution_count": null,
   "id": "f4e0e25c",
   "metadata": {},
   "outputs": [],
   "source": []
  }
 ],
 "metadata": {
  "kernelspec": {
   "display_name": "Python 3",
   "language": "python",
   "name": "python3"
  },
  "language_info": {
   "codemirror_mode": {
    "name": "ipython",
    "version": 3
   },
   "file_extension": ".py",
   "mimetype": "text/x-python",
   "name": "python",
   "nbconvert_exporter": "python",
   "pygments_lexer": "ipython3",
   "version": "3.7.6"
  },
  "latex_envs": {
   "LaTeX_envs_menu_present": true,
   "autoclose": false,
   "autocomplete": true,
   "bibliofile": "biblio.bib",
   "cite_by": "apalike",
   "current_citInitial": 1,
   "eqLabelWithNumbers": true,
   "eqNumInitial": 1,
   "hotkeys": {
    "equation": "Ctrl-E",
    "itemize": "Ctrl-I"
   },
   "labels_anchors": false,
   "latex_user_defs": false,
   "report_style_numbering": false,
   "user_envs_cfg": false
  },
  "toc": {
   "base_numbering": 1,
   "nav_menu": {},
   "number_sections": true,
   "sideBar": true,
   "skip_h1_title": false,
   "title_cell": "Table of Contents",
   "title_sidebar": "Contents",
   "toc_cell": false,
   "toc_position": {
    "height": "calc(100% - 180px)",
    "left": "10px",
    "top": "150px",
    "width": "483.59375px"
   },
   "toc_section_display": true,
   "toc_window_display": true
  },
  "varInspector": {
   "cols": {
    "lenName": 16,
    "lenType": 16,
    "lenVar": 40
   },
   "kernels_config": {
    "python": {
     "delete_cmd_postfix": "",
     "delete_cmd_prefix": "del ",
     "library": "var_list.py",
     "varRefreshCmd": "print(var_dic_list())"
    },
    "r": {
     "delete_cmd_postfix": ") ",
     "delete_cmd_prefix": "rm(",
     "library": "var_list.r",
     "varRefreshCmd": "cat(var_dic_list()) "
    }
   },
   "types_to_exclude": [
    "module",
    "function",
    "builtin_function_or_method",
    "instance",
    "_Feature"
   ],
   "window_display": false
  }
 },
 "nbformat": 4,
 "nbformat_minor": 5
}
